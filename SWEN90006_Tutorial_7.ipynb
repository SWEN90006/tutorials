{
 "cells": [
  {
   "cell_type": "markdown",
   "id": "88f8f176",
   "metadata": {
    "id": "9f6077ed"
   },
   "source": [
    "# SWEN90006 Tutorial 7"
   ]
  },
  {
   "cell_type": "markdown",
   "id": "7abca9bb",
   "metadata": {},
   "source": [
    "**NOTE** You are expected to prepare for this tutorial by sketching\n",
    "answers to the tasks and questions before attending the tutorial."
   ]
  },
  {
   "cell_type": "markdown",
   "id": "a39f5369",
   "metadata": {
    "id": "97e7daf0"
   },
   "source": [
    "## Introduction\n",
    "The aim of this tutorial is to get you thinking about software security\n",
    "and vulnerabilities, and the applicability of different kinds of\n",
    "security testing.\n",
    "\n",
    "As a first step, think about what security testing is, and why we would\n",
    "want to perform security testing on our software."
   ]
  },
  {
   "cell_type": "markdown",
   "id": "53758b73",
   "metadata": {
    "id": "46680c7b"
   },
   "source": [
    "## The Bitmap File Format\n",
    "\n",
    "BMP is an historical image file format that we will use in this\n",
    "tutorial. We will consider a simple class of BMP files whose format is\n",
    "as follows. (Specifically, we consider here BMP files with no\n",
    "compression, and in which each pixel is 32-bits wide in order to avoid\n",
    "issues of padding; see\n",
    "<http://www.fastgraph.com/help/bmp_header_format.html> and\n",
    "<https://en.wikipedia.org/wiki/BMP_file_format> for more details.)\n",
    "\n",
    "| Offset | Size (in bytes)              | Description                                                        |\n",
    "|--------|------------------------------|--------------------------------------------------------------------|\n",
    "| 0      | 1                            | first byte of signature, must be 0x42 (the ASCII character 'B')    |\n",
    "| 1      | 1                            | second byte of signature, must be 0x4D (the ASCII character 'M')   |\n",
    "| 2      | 4                            | size of the BMP file in bytes (unreliable, ignored)                |\n",
    "| 6      | 2                            | Must be zero                                                       |\n",
    "| 8      | 2                            | Must be zero                                                       |\n",
    "| 10     | 4                            | Must be the value 54 (i.e. 0x00000036)                            |\n",
    "| 14     | 4                            | Must be the value 40 (i.e. 0x00000028)                            |\n",
    "| 18     | 4                            | *Width* (image width in pixels, as signed integer)            |\n",
    "| 22     | 4                            | *Height* (image height in pixels, as signed integer)          |\n",
    "| 26     | 2                            | Must be one                                                        |\n",
    "| 28     | 2                            | Number of bits per pixel (must be 32)                              |\n",
    "| 30     | 4                            | Compression type (must be 0 = no compression)                      |\n",
    "| 34     | 4                            | Size of image data in bytes (must be 4\\**Width*\\**Height*) |\n",
    "| 38     | 4                            | unreliable (ignored)                                               |\n",
    "| 42     | 4                            | unreliable (ignored)                                               |\n",
    "| 46     | 4                            | Must be zero                                                       |\n",
    "| 50     | 4                            | Must be zero                                                       |\n",
    "| 54     | 4\\**Width*\\**Height* | Pixel data, laid out in rows                                       |\n",
    "\n",
    "The first byte (offset 0) of a valid BMP file is the character 'B'; the\n",
    "second byte (offset 1) is the character 'M'. The 3rd to 6th bytes\n",
    "(offsets 2 to 5 inclusive) indicate the total length of the BMP file but\n",
    "are unreliable in practice and so let us assume that they are ignored by\n",
    "all BMP parsing code. The 7th and 8th bytes (offsets 6 and 7) are\n",
    "interpreted as a 2-byte integer that must be zero, i.e. each of these\n",
    "bytes must be zero. The same is true for the 9th and 10th bytes (offsets\n",
    "8 and 9), and so on."
   ]
  },
  {
   "cell_type": "markdown",
   "id": "cfb0a548",
   "metadata": {
    "id": "59164571"
   },
   "source": [
    "## Your Tasks\n",
    "\n",
    "\n",
    "### Question 1\n",
    "Imagine you are choosing a value for each of the fields in the table\n",
    "above *in order*, i.e. you first choose a value for the first byte of\n",
    "the file, then choose a value for the second byte of the file, then for\n",
    "following 4-bytes, and so on. For each field, identify the total number\n",
    "of valid values there are to choose from, assuming you have already\n",
    "chosen values for all fields that have come before.\n",
    "\n",
    "### Question 2\n",
    "The BMP header (i.e. everything excluding the pixel data) as described\n",
    "above has a fixed length of 54 bytes. Using the answer from the previous\n",
    "question or otherwise, what is the probability that a (uniformly)\n",
    "randomly generated string of 54 bytes is a valid BMP header?\n",
    "\n",
    "### Question 3\n",
    "Suppose you have a valid 54-byte header and you mutate an arbitrary\n",
    "(uniformly randomly chosen) byte in the header to a new value (different\n",
    "from its original value). What is the probability of producing a valid\n",
    "header?\n",
    "\n",
    "### Question 4\n",
    "Imagine you had to write a fuzzer to fuzz some BMP processing code that\n",
    "processed BMP files of the format described above. If you had to choose\n",
    "between generating completely random inputs vs. using random mutation on\n",
    "existing BMP files, which strategy would you choose?\n"
   ]
  }
 ],
 "metadata": {
  "colab": {
   "include_colab_link": true,
   "name": "SWEN90006_Tutorial_06.ipynb",
   "provenance": []
  },
  "kernelspec": {
   "display_name": "Java",
   "language": "java",
   "name": "java"
  },
  "language_info": {
   "codemirror_mode": "java",
   "file_extension": ".jshell",
   "mimetype": "text/x-java-source",
   "name": "Java",
   "pygments_lexer": "java",
   "version": "10.0.2+13"
  }
 },
 "nbformat": 4,
 "nbformat_minor": 5
}
