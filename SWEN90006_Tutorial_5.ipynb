{
  "cells": [
    {
      "cell_type": "markdown",
      "metadata": {
        "colab_type": "text",
        "id": "view-in-github"
      },
      "source": [
        "<a href=\"https://colab.research.google.com/github/SWEN90006/tutorials/blob/main/SWEN90006_Tutorial_5.ipynb\" target=\"_parent\"><img src=\"https://colab.research.google.com/assets/colab-badge.svg\" alt=\"Open In Colab\"/></a>"
      ]
    },
    {
      "cell_type": "markdown",
      "id": "201d404e",
      "metadata": {
        "id": "201d404e"
      },
      "source": [
        "# SWEN90006 Tutorial 5"
      ]
    },
    {
      "cell_type": "markdown",
      "id": "df9e08b4",
      "metadata": {
        "id": "df9e08b4"
      },
      "source": [
        "## Introduction\n",
        "Encapsulation is an abstraction mechanism that aids in programming, but\n",
        "that adds complexity to testing. We often need to break the information\n",
        "hiding utilised by classes in order to examine the class state for the\n",
        "testing purposes.\n",
        "\n",
        "The aim of this tutorial is for you to explore some of the issues in\n",
        "object oriented testing through the simple Graph given below. The graph\n",
        "uses an adjacency matrix that records which vertices are \"*adjacent*\" in\n",
        "the graph."
      ]
    },
    {
      "cell_type": "markdown",
      "id": "529aa40e",
      "metadata": {
        "id": "529aa40e"
      },
      "source": [
        "## Working With the Program\n",
        "\n",
        "### Prepare the Java Kernel\n",
        "Since Java is not natively supported by Colab, we need to run the following code to enable Java kernel on Colab.\n",
        "\n",
        "1. Run the cell bellow (click it and press Shift+Enter),\n",
        "2. Change the kernel to java_use (Runtime -> Change Runtime Type -> select **\"java_use\"** -> Save)\n",
        "3. Try and run the following cells. The java kernel is ready if the you can load the JUnit library in the following cell. \n",
        "\n",
        "### Trouble shooting\n",
        "  * There are two Java runtimes having similar names that you can select in step 2. If you accidentally select **java** instead of **java_use**, Colab will enter an indefinite loop, show **connecting**, and the bottom bar has a message saying \"Connecting to **java_tcp** Google Compute Engine backend\", you should delete the runtime (Runtime -> Disconnect and Delete Runtime), and run step 1 again. \n",
        "    * The working runtime has a log message saying it is **connecting to java Google Compute Enginge Backend**"
      ]
    },
    {
      "cell_type": "code",
      "execution_count": null,
      "id": "fd4f34a4",
      "metadata": {
        "id": "fd4f34a4",
        "vscode": {
          "languageId": "java"
        }
      },
      "outputs": [],
      "source": [
        "%%sh\n",
        "# Install java kernel\n",
        "wget -q https://github.com/SpencerPark/IJava/releases/download/v1.3.0/ijava-1.3.0.zip \n",
        "unzip -q ijava-1.3.0.zip \n",
        "python install.py\n",
        "\n",
        "# Install proxy for the java kernel\n",
        "wget -qO- https://gist.github.com/wenta0g/67289a9b2e54b8128109abb3aff2194b/archive/0707f5d61d156ce2830505679994b0f1a606589b.tar.gz | tar xvz --strip-components=1\n",
        "python install_ipc_proxy_kernel.py --kernel=java --implementation=ipc_proxy_kernel.py"
      ]
    },
    {
      "cell_type": "code",
      "execution_count": null,
      "id": "0d664ffa",
      "metadata": {
        "id": "0d664ffa",
        "vscode": {
          "languageId": "java"
        }
      },
      "outputs": [],
      "source": [
        "%%loadFromPOM\n",
        "\n",
        "<dependency>\n",
        "  <groupId>junit</groupId>\n",
        "  <artifactId>junit</artifactId>\n",
        "  <version>4.13.2</version>\n",
        "</dependency>"
      ]
    },
    {
      "cell_type": "markdown",
      "id": "708b64cb",
      "metadata": {
        "id": "708b64cb"
      },
      "source": [
        "The following is a basic Java implementation of `Graph`."
      ]
    },
    {
      "cell_type": "code",
      "execution_count": null,
      "id": "cb8f6f52",
      "metadata": {
        "id": "cb8f6f52",
        "vscode": {
          "languageId": "java"
        }
      },
      "outputs": [],
      "source": [
        "import java.util.*;\n",
        "\n",
        "public class Graph {\n",
        "    \n",
        "    //------------ Private Attributes ----------------------------\n",
        "    //    The representation of a graph consists of an array\n",
        "    //    of vertices that map nodes (just integers) to array \n",
        "    //    indexes. The adjacency matrix _matrix sets matrix[i][j]\n",
        "    //    to true if there is an edge between _vertices[i] and \n",
        "    //    _vertices[j].\n",
        "    //  \n",
        "    //    The operations must maintain the following invariant:\n",
        "    //        _vertices[i] is defined iff i < _allocated\n",
        "    //        _allocated <= _order\n",
        "    static final String EMPTY_GRAPH = \"Empty Graph\";\n",
        "    \n",
        "    private int     _order;      // The number of vertices allowed \n",
        "    private int     _allocated;  // The next free space in the vertex array\n",
        "    private int     _vertices[]; // A list of the actual vertices\n",
        "    private boolean _matrix[][]; // The adjacency matrix\n",
        "    \n",
        "    public Graph(int n) {\n",
        "        // Create a matrix of size n and initial all of the \n",
        "        // state variables so that the invariant is maintained.\n",
        "        _order = n;\n",
        "        _allocated = 0;\n",
        "        _vertices = _vertices(n);\n",
        "        _matrix = _allocate(n);\n",
        "    }\n",
        "    \n",
        "    public Graph(int n, int allocated, int[] vertices, boolean matrix[][]) {\n",
        "        _order = n;\n",
        "        _allocated = allocated;\n",
        "        _vertices = vertices;\n",
        "        _matrix = matrix;\n",
        "     }\n",
        "    \n",
        "    private static boolean[][] _allocate(int n) {\n",
        "        return new boolean[n][n];\n",
        "    }\n",
        "    \n",
        "    private static int[] _vertices(int n) {\n",
        "        return new int[n];\n",
        "    }\n",
        "    \n",
        "    private int _lookup(int m) {\n",
        "        int index = 0;\n",
        "        while (index < _allocated && _vertices[index] != m) {\n",
        "            index = index + 1;\n",
        "        }\n",
        "\n",
        "        if (index == _allocated) {\n",
        "            return _order + 1;\n",
        "        }\n",
        "        else {\n",
        "            return index;\n",
        "        }\n",
        "    }\n",
        "    \n",
        "    public void addVertex(int v) {\n",
        "        // Add a vertex to the vertex graph. For the moment we\n",
        "        // assume that vertices are just integers.\n",
        "        if (_allocated < _order) {\n",
        "            _vertices[_allocated] = v;\n",
        "            _allocated = _allocated + 1;\n",
        "        }\n",
        "    }\n",
        "    \n",
        "    public void addEdge(int m, int n) {\n",
        "        // Add an edge to the graph. Edges are specified by pairs\n",
        "        // of vertices. To add the edge correctly it is necessary\n",
        "        // that m and n have already been added to graph as vertices.\n",
        "\n",
        "        int mIndex = _lookup(m);\n",
        "        int nIndex = _lookup(n);\n",
        "\n",
        "        if (mIndex < _order && nIndex < _order) {\n",
        "            _matrix[mIndex][nIndex] = true;\n",
        "            _matrix[nIndex][mIndex] = true;\n",
        "        }\n",
        "    }\n",
        "    \n",
        "    public void deleteVertex(int v) {\n",
        "        // We can only delete a node if it is not part of some edge\n",
        "        // in the graph and it exists as an actual vertex in the \n",
        "        // graph.\n",
        "        \n",
        "        int vIndex = _lookup(v);\n",
        "    \n",
        "        if (vIndex < _order) {\n",
        "            boolean isEdge = false;    \n",
        "            for (int i = 0; i < _allocated; i++) {\n",
        "                isEdge = isEdge || _matrix[vIndex][i] || _matrix[i][vIndex];\n",
        "            }\n",
        "    \n",
        "            if (!isEdge) {\n",
        "                for (int i = vIndex; i < _allocated-1; i++) {\n",
        "                    _vertices[i] = _vertices[i+1];\n",
        "                }\n",
        "            }\n",
        "            _allocated = _allocated - 1;\n",
        "        }\n",
        "    }\n",
        "    \n",
        "    public void deleteEdge(int m, int n) {\n",
        "        // We can only delete an edge if the two specified\n",
        "        // vertices are in the graph.\n",
        "        \n",
        "        int mIndex = _lookup(m);\n",
        "        int nIndex = _lookup(n);\n",
        "    \n",
        "        if (mIndex < _order && nIndex < _order) \n",
        "            _matrix[mIndex][nIndex] = false;\n",
        "    }\n",
        "    \n",
        "    // Overrides ToString()\n",
        "    public String toString() {\n",
        "        StringBuilder s = new StringBuilder();\n",
        "        if (_allocated == 0)\n",
        "        {\n",
        "            return EMPTY_GRAPH;\n",
        "        }\n",
        "        else {\n",
        "            s.append(\"\\n   \");\n",
        "            for (int i = 0; i < _allocated; i++)\n",
        "            {\n",
        "                 s.append(i + \" \");\n",
        "            }\n",
        "            s.append(\"\\n\");\n",
        "            for (int i = 0; i < _allocated; i++) {\n",
        "                 s.append(i + \": \");\n",
        "                 for (boolean j : _matrix[i]) {\n",
        "                      s.append((j ? \"T\" : \" \") + \" \");\n",
        "                 }\n",
        "                 s.append(\"\\n\");\n",
        "            }\n",
        "            return s.toString();\n",
        "        }\n",
        "   }\n",
        "}"
      ]
    },
    {
      "cell_type": "markdown",
      "id": "eab02640",
      "metadata": {
        "id": "eab02640"
      },
      "source": [
        "The code block below demostrates how to create graph"
      ]
    },
    {
      "cell_type": "code",
      "execution_count": null,
      "id": "0e05e61f",
      "metadata": {
        "id": "0e05e61f",
        "outputId": "ce74d455-7585-4ee9-eadd-ab4e213f9304",
        "scrolled": false,
        "vscode": {
          "languageId": "java"
        }
      },
      "outputs": [
        {
          "name": "stdout",
          "output_type": "stream",
          "text": [
            "\n",
            "   0 1 2 3 4 5 \n",
            "0:             \n",
            "1:       T     \n",
            "2:             \n",
            "3:   T         \n",
            "4:             \n",
            "5:             \n",
            "\n",
            "Empty Graph\n",
            "\n",
            "\n",
            "   0 1 2 3 \n",
            "0:             \n",
            "1:             \n",
            "2:             \n",
            "3:             \n",
            "\n",
            "\n",
            "   0 1 2 3 4 5 \n",
            "0:             \n",
            "1:       T     \n",
            "2:             \n",
            "3:   T         \n",
            "4:             \n",
            "5:             \n",
            "\n",
            "true\n"
          ]
        }
      ],
      "source": [
        "// Method 1: pass all params into the constructor\n",
        "// Pre-define a matrix\n",
        "boolean[][] matrix = new boolean[6][6];\n",
        "for (int i = 0; i < matrix.length ; i++) {\n",
        "    Arrays.fill(matrix [i], false);\n",
        "}\n",
        "\n",
        "matrix[1][3] = true;\n",
        "matrix[3][1] = true;\n",
        "\n",
        "// Graph(int n, int allocated, int[] vertices, boolean matrix[][])\n",
        "// int n: The number of vertices allowed \n",
        "// int allocated: The next free space in the vertex array\n",
        "// int[] verties: A list of the actual vertices\n",
        "// boolean matrix[][]: The adjacency matrix\n",
        "Graph graph_1 = new Graph(6, 6, new int[] {0, 1, 2, 3, 4, 5}, matrix);\n",
        "\n",
        "// Print the Graph\n",
        "System.out.println(graph_1);\n",
        "\n",
        "// Method 2:\n",
        "Graph graph_2 = new Graph(6);\n",
        "System.out.println(graph_2);\n",
        "System.out.println();\n",
        "// Add Vertex\n",
        "graph_2.addVertex(0);\n",
        "graph_2.addVertex(1);\n",
        "graph_2.addVertex(2);\n",
        "graph_2.addVertex(3);\n",
        "System.out.println(graph_2);\n",
        "graph_2.addVertex(4);\n",
        "graph_2.addVertex(5);\n",
        "\n",
        "// Add Edge\n",
        "graph_2.addEdge(1, 3);\n",
        "\n",
        "// Print the Graph\n",
        "System.out.println(graph_2);\n",
        "\n",
        "// Check if they are identical or not\n",
        "// In this case, it should be true\n",
        "System.out.println(graph_1.toString().equals(graph_2.toString()))"
      ]
    },
    {
      "cell_type": "code",
      "execution_count": null,
      "id": "56608cbf",
      "metadata": {
        "id": "56608cbf",
        "vscode": {
          "languageId": "java"
        }
      },
      "outputs": [],
      "source": [
        "import java.util.Arrays;\n",
        "import java.util.Collection;\n",
        "\n",
        "import org.junit.Test;\n",
        "import org.junit.runner.JUnitCore;\n",
        "import org.junit.runner.Result;\n",
        "import org.junit.runner.RunWith;\n",
        "import org.junit.runner.notification.Failure;\n",
        "import org.junit.runners.Parameterized;\n",
        "\n",
        "import junit.framework.TestCase;\n",
        "\n",
        "@RunWith(Parameterized.class)\n",
        "public class TestGraph extends TestCase {\n",
        "    @Parameterized.Parameter(0)\n",
        "    public String actual;\n",
        "    @Parameterized.Parameter(1)\n",
        "    public String expected;\n",
        "    \n",
        "    @Parameterized.Parameters(name = \"{index}:\\ngraph 1: \\n{0}\\ngraph 2:\\n{1}\\n\")\n",
        "    public static Collection<Object[]> data() {\n",
        "\n",
        "        // Define your params and constructor here\n",
        "        boolean[][] matrix = new boolean[6][6];\n",
        "        for (int i = 0; i < matrix.length ; i++) {\n",
        "            Arrays.fill(matrix [i], false);\n",
        "        }\n",
        "        \n",
        "        matrix[1][3] = true;\n",
        "        matrix[3][1] = true;\n",
        "        \n",
        "        Graph expectedGraph = new Graph(6, 6, new int[]{0, 1, 2, 3, 4, 5}, matrix);\n",
        "\n",
        "        Graph actualGraph = new Graph(6);\n",
        "        actualGraph.addVertex(0);\n",
        "        actualGraph.addVertex(1);\n",
        "        actualGraph.addVertex(2);\n",
        "        actualGraph.addVertex(3);\n",
        "        actualGraph.addVertex(4);\n",
        "        actualGraph.addVertex(5);\n",
        "        actualGraph.addEdge(1, 3);\n",
        "        \n",
        "        Graph emptyGraph = new Graph(6);\n",
        "        // End of pre-define\n",
        "        \n",
        "        \n",
        "        Object[][] data = new Object[][]{\n",
        "            // Your Test cases start here\n",
        "            // Please follow the pattern: expected graph, actual graph\n",
        "\n",
        "            // Success\n",
        "            {expectedGraph.toString(), actualGraph.toString()},\n",
        "            // Success\n",
        "            {Graph.EMPTY_GRAPH, emptyGraph.toString()},\n",
        "            // Fail\n",
        "            {Graph.EMPTY_GRAPH, actualGraph.toString()}\n",
        "            // Your Test cases end here\n",
        "            };\n",
        "        return Arrays.asList(data);\n",
        "    }\n",
        "    \n",
        "    @Test\n",
        "    public void testGraph() {\n",
        "        assertEquals(expected, actual);\n",
        "    }\n",
        "}"
      ]
    },
    {
      "cell_type": "code",
      "execution_count": null,
      "id": "c0416df8",
      "metadata": {
        "id": "c0416df8",
        "outputId": "48e9a17a-a347-4873-d309-f74dbb8846bb",
        "vscode": {
          "languageId": "java"
        }
      },
      "outputs": [
        {
          "name": "stdout",
          "output_type": "stream",
          "text": [
            "testGraph[2:\n",
            "graph 1: \n",
            "Empty Graph\n",
            "graph 2:\n",
            "\n",
            "   0 1 2 3 4 5 \n",
            "0:             \n",
            "1:       T     \n",
            "2:             \n",
            "3:   T         \n",
            "4:             \n",
            "5:             \n",
            "\n",
            "](REPL.$JShell$44H$TestGraph): expected:<[\n",
            "   0 1 2 3 4 5 \n",
            "0:             \n",
            "1:       T     \n",
            "2:             \n",
            "3:   T         \n",
            "4:             \n",
            "5:             \n",
            "]> but was:<[Empty Graph]>\n",
            "Total run count: 3, Failed run count: 1\n"
          ]
        }
      ],
      "source": [
        "Result result = JUnitCore.runClasses(TestGraph.class);\n",
        "for (Failure failure : result.getFailures()) {\n",
        "     System.out.println(failure.toString());\n",
        "}\n",
        "System.out.println(String.format(\"Total run count: %s, Failed run count: %s\", result.getRunCount(), result.getFailureCount()));"
      ]
    },
    {
      "cell_type": "markdown",
      "id": "fe84671f",
      "metadata": {
        "id": "fe84671f"
      },
      "source": [
        "## Your Tasks\n",
        "\n",
        "### Task 1\n",
        "Consider the `addEdge` and `deleteEdge` methods in the `Graph` class\n",
        "above. Derive test cases for path coverage and condition coverage for\n",
        "these two methods. **Note** that it may be necessary to examine the\n",
        "state variables in your test cases. Sketch how you would achieve this.\n",
        "\n",
        "### Task 2\n",
        "Given that a Graph object has already been initialized with the number K, draw a finite state automaton for this `Graph` object. **Note** that it is not\n",
        "always possible to add an edge and it is not always possible to delete a\n",
        "vertex. You will need to consider the states and the guards on\n",
        "transitions to ensure all of the conditions.\n",
        "\n",
        "### Task 3\n",
        "Derive a set of test cases to test every transition in your graph.\n",
        "\n"
      ]
    }
  ],
  "metadata": {
    "colab": {
      "include_colab_link": true,
      "name": "SWEN90006_Tutorial_05.ipynb",
      "provenance": []
    },
    "kernelspec": {
      "display_name": "Java",
      "language": "java",
      "name": "java"
    },
    "language_info": {
      "codemirror_mode": "java",
      "file_extension": ".jshell",
      "mimetype": "text/x-java-source",
      "name": "Java",
      "pygments_lexer": "java",
      "version": "10.0.2+13"
    }
  },
  "nbformat": 4,
  "nbformat_minor": 5
}
