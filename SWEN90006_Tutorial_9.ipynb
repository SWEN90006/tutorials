{
 "cells": [
  {
   "cell_type": "markdown",
   "id": "3adcba9a",
   "metadata": {
    "id": "9f6077ed"
   },
   "source": [
    "# SWEN90006 Tutorial 9"
   ]
  },
  {
   "cell_type": "markdown",
   "id": "960f7aae",
   "metadata": {
    "id": "97e7daf0"
   },
   "source": [
    "## Introduction\n",
    "\n",
    "The aim of this tutorial is to give you more experience with symbolic\n",
    "execution and how it can be used to verify software."
   ]
  },
  {
   "cell_type": "markdown",
   "id": "e9c224d8",
   "metadata": {
    "id": "46680c7b"
   },
   "source": [
    "## Symbolic Execution\n",
    "\n",
    "Recall from the lecture that the aim of symbolic execution is to, in\n",
    "effect, execute *multiple* inputs at the same time -- possibly an\n",
    "infinite number. It does this by using symbolic values to represent\n",
    "inputs, instead of concrete values.\n",
    "\n",
    "A complete symbolic execution of a program produces a *symbolic\n",
    "execution tree*. Each path through the tree represents a single path\n",
    "through the program, including all inputs on that path. Each node along\n",
    "a path represents the symbolic values of variables at that point in the\n",
    "execution.\n",
    "\n",
    "\n",
    "## Tasks and Questions\n",
    "\n",
    "### Question 1\n",
    "\n",
    "Figure C.3 shows an implementation of a program that\n",
    "returns the minimum of two integers. Draw the complete symbolic\n",
    "execution tree for this program. In your execution tree, use the\n",
    "variables `X_0` and `Y_0` to represent the initial symbolic values of\n",
    "`x` and `y` respectively.\n",
    "\n",
    "At the return statement at line 10, assume the existence of a symbolic\n",
    "variable `RET`, to which the return value is assigned when a return\n",
    "statement is executed.\n",
    "\n",
    "```c\n",
    "       1.  int min(int x, int y)\n",
    "       2.  {\n",
    "       3.      int minimum = 0;\n",
    "       4.      if (x > y) {\n",
    "       5.          minimum = y;\n",
    "       6.      }\n",
    "       7.      else if (y > x) {\n",
    "       8.          minimum = x;\n",
    "       9.      }\n",
    "      10.      return minimum;\n",
    "      11.   }\n",
    "```\n",
    "\n",
    "<p style=\"text-align: center;\">Figure C.3: An implementation of the Min function</p>\n",
    "\n",
    "### Question 2\n",
    "Does the program in Figure C.3 ensure the precondition that the number\n",
    "returned is always the minimum; i.e. that `RET` is the minimum number of\n",
    "`X_0` and `Y_0`?"
   ]
  },
  {
   "cell_type": "markdown",
   "id": "c45d2585",
   "metadata": {},
   "source": []
  },
  {
   "cell_type": "code",
   "execution_count": null,
   "id": "63604442",
   "metadata": {},
   "outputs": [],
   "source": []
  }
 ],
 "metadata": {
  "colab": {
   "include_colab_link": true,
   "name": "SWEN90006_Tutorial_06.ipynb",
   "provenance": []
  },
  "kernelspec": {
   "display_name": "Java",
   "language": "java",
   "name": "java"
  },
  "language_info": {
   "codemirror_mode": "java",
   "file_extension": ".jshell",
   "mimetype": "text/x-java-source",
   "name": "Java",
   "pygments_lexer": "java",
   "version": "10.0.2+13"
  }
 },
 "nbformat": 4,
 "nbformat_minor": 5
}
