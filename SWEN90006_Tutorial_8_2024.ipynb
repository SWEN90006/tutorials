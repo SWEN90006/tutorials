{
 "cells": [
  {
   "cell_type": "markdown",
   "id": "a2f8b49d",
   "metadata": {
    "id": "9f6077ed"
   },
   "source": [
    "# SWEN90006 Tutorial 8"
   ]
  },
  {
   "cell_type": "markdown",
   "id": "849ea99f",
   "metadata": {
    "id": "97e7daf0"
   },
   "source": [
    "## Introduction\n",
    "\n",
    "The aim of this tutorial is for you to familiarise yourself with generation-based and mutation-based fuzzing. In today's session, we will first reflect on mutation-based fuzzing a bit more using last week's example. And then, we will use generation-based/model-based black-box fuzzing tools like Peach fuzzer to generate inputs to trigger the faults in two versions of the read_and_process program. "
   ]
  },
  {
   "cell_type": "markdown",
   "id": "9a3f3550",
   "metadata": {
    "id": "46680c7b"
   },
   "source": [
    "## Mutation-based fuzzing (cont'd)\n",
    "\n",
    "Please recap the BMP header excecise, review the concept of Mutation-based fuzzing, and answer Question 3 and Question 4 from last week again. \n",
    "\n",
    "### Question 3\n",
    "Suppose you have a valid 54-byte header and you mutate an arbitrary\n",
    "(uniformly randomly chosen) byte in the header to a new value (different\n",
    "from its original value). What is the probability of producing a valid\n",
    "header?\n",
    "\n",
    "### Question 4\n",
    "Imagine you had to write a fuzzer to fuzz some BMP processing code that\n",
    "can process BMP files of the format described above. If you had to choose\n",
    "between generating completely random inputs vs. performing random mutation \n",
    "on existing (valid) BMP files, which strategy would you choose?\n"
   ]
  },
  {
   "cell_type": "markdown",
   "id": "2ef001ee",
   "metadata": {},
   "source": [
    "\n",
    "## Generation-based fuzzing\n",
    "\n",
    "\n",
    "### Building a Docker Container\n",
    "\n",
    "We provided a docker container that has all tools introduced in the lecture. This docker will be used to help you understand fuzzing better, reproduce the demos during the lecture, and carry out fuzzing experiments in tutorials for the next few weeks. \n",
    "\n",
    "Following the instructions at https://github.com/SWEN90006-2021/security-testing to setup a Docker image and Docker container.\n",
    "\n",
    "\n",
    "### Week 8 in-class exercise\n",
    "\n",
    "This part of the instructions are the same as `Week 8 in-class exercise: generation-based fuzzing` on Canvas.\n",
    "\n",
    "We will look at two exercises in which you are asked to apply these fuzzing techniques to discover the faults in two versions of a program named `read_and_process.c` (stored in `read_and_process.zip`). This program mimics some functionalities of media processing libraries like LibPNG. The program takes a file as input and the file is expected to adhere to a specific format. A valid file starts with a 4-byte \"signature\". After that, the file contains a list of chunks and each chunk has three parts: i) a chunk type stored in 4 bytes, ii) a 4-byte data length, and iii) the chunk data.\n",
    "\n",
    "The below images taken from the lecture slides illustrates the file format:\n",
    "\n",
    "![File Format](figures/Input_structure_tut8.png)\n",
    "\n",
    "### Question 1: Manual analysis\n",
    "\n",
    "What is the fault in [read_and_process_v1.c](https://github.com/SWEN90006-2021/security-testing/blob/main/read_and_process_v1.c)? What are the conditions to trigger the fault?\n",
    "\n",
    "### Question 2: Write an input model for the given file format \n",
    "\n",
    "Create a new file with name `input_model.xml`\n",
    "\n",
    "Hint: the input model is also on the lecture slides\n",
    "\n",
    "### Question 3: Generation-based fuzzing\n",
    "Use the input model and use generation-based fuzzing (`generation_fuzzer.sh`) to automatically generate an input to trigger that fault. You would need to update the fuzzer scripts to capture SIGABORT (return code = 134) instead of SIGFAULT (return code = 139).\n",
    "\n",
    "<div style=\"background-color: rgb(50, 50, 50);\">\n",
    "\n",
    "```shell\n",
    "// First, compile the buggy program read_and_process_v1.c\n",
    "cd $WORKDIR\n",
    "gcc -o read_and_process_v1 read_and_process_v1.c\n",
    "\n",
    "// Next, run generation-based fuzzer to fuzz the read_and_process_v1 program\n",
    "generation_fuzzer.sh ./read_and_process_v1 input_model.xml 20 results-no-seeds\n",
    "```\n",
    "</div>\n",
    "\n",
    "### Question 4: Work on another program using all steps from questions 1 - 3\n",
    "What is the fault in [read_and_process_v2.c](https://github.com/SWEN90006-2021/security-testing/blob/main/read_and_process_v2.c)? \n",
    "What are the conditions to trigger that fault? \n",
    "Is the input model written in Question-2 helpful to discover that fault? If it does not work, discuss the ideas to fuzz test this program.\n"
   ]
  }
 ],
 "metadata": {
  "colab": {
   "include_colab_link": true,
   "name": "SWEN90006_Tutorial_06.ipynb",
   "provenance": []
  },
  "kernelspec": {
   "display_name": "Java",
   "language": "java",
   "name": "java"
  },
  "language_info": {
   "codemirror_mode": "java",
   "file_extension": ".jshell",
   "mimetype": "text/x-java-source",
   "name": "Java",
   "pygments_lexer": "java",
   "version": "10.0.2+13"
  }
 },
 "nbformat": 4,
 "nbformat_minor": 5
}
