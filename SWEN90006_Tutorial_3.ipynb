{
  "nbformat": 4,
  "nbformat_minor": 5,
  "metadata": {
    "colab": {
      "name": "Tutorial_02_LWIG.ipynb",
      "provenance": [],
      "include_colab_link": true
    },
    "kernelspec": {
      "display_name": "Java",
      "language": "java",
      "name": "java"
    },
    "language_info": {
      "codemirror_mode": "java",
      "file_extension": ".jshell",
      "mimetype": "text/x-java-source",
      "name": "Java",
      "pygments_lexer": "java",
      "version": "10.0.2+13"
    }
  },
  "cells": [
    {
      "cell_type": "markdown",
      "source": [
        "<a href=\"https://colab.research.google.com/github/SWEN90006/tutorials/blob/main/SWEN90006_Tutorial_3.ipynb\" target=\"_parent\"><img src=\"https://colab.research.google.com/assets/colab-badge.svg\" alt=\"Open In Colab\"/></a>"
      ],
      "metadata": {
        "id": "view-in-github",
        "colab_type": "text"
      }
    },
    {
      "cell_type": "markdown",
      "source": [
        "# SWEN90006 Tutorial 3"
      ],
      "metadata": {
        "id": "ecf80d1c"
      }
    },
    {
      "cell_type": "markdown",
      "source": [
        "## Introduction\n",
        "The aim of this tutorial is for you to familiarise yourself with the\n",
        "various coverage criteria and analysis of the program for the various\n",
        "coverage criteria. When you get back to your revision you should try\n",
        "comparing the test cases that you derive for a program using different\n",
        "techniques.\n",
        "\n",
        "The different type of program that we encounter this week is a numerical\n",
        "program. One of the challenges of numerical programs is that we can\n",
        "never be certain that we will get an *exact* answer to our computation.\n",
        "Instead what we typically require is an answer to within some *error*\n",
        "value. (Recall from the lecture notes that an error is the difference between a computed value and the exact value). Numerical programs are tricky to debug, because they are\n",
        "often used to *find* the answer to some problem in the first place. For\n",
        "example, solving some integration or differentiation problems is too\n",
        "hard to do by hand and so we use a *numerical* method to approximate the\n",
        "answer."
      ],
      "metadata": {
        "id": "8265c408"
      }
    },
    {
      "cell_type": "markdown",
      "source": [
        "## Working With the Program\r\n",
        "The program implements the standard bisection method for root finding.\r\n",
        "The root-finding problem is expressed as follows:\r\n",
        "\r\n",
        "> We are given a function $f(x)$ taking a real number and returning a\r\n",
        "> real number; that is a function $f: \\mathbb{R} \\rightarrow \\mathbb{R}$. The function is negative at some point $x_0$ and\r\n",
        "> positive at some point $x_1$. Find the value $x$ for which $f(x) = 0$\r\n",
        "> on an interval $[Lower,Upper]$. The point $x$ is a root of $f$ on the\r\n",
        "> interval $[Lower,Upper]$.\r\n",
        "\r\n",
        "As an example, consider the natural logarithm function, $ln$. The graph\r\n",
        "in Figure 1 shows the values of $ln(x)$ for various values\r\n",
        "of $x$. We can see that the value of $ln(x)$ is equal to 0 when $x=1$.\r\n",
        "The bisection algorithm finds this value of $x$.\r\n",
        "\r\n",
        "<img src=\"https://raw.githubusercontent.com/SWEN90006/tutorials/main/figures/Log-Graph.png\" width=\"60%\">\r\n",
        "\r\n",
        "<center>Figure 1: Root finding problems.</center>\r\n",
        "\r\n",
        "The idea behind the algorithm for finding roots is to look at the\r\n",
        "interval $[Lower,Upper]$ and bisect it (hence the name of the algorithm)\r\n",
        "and find the midpoint of the interval $x_r$. If we know that\r\n",
        "$f(\\mathit{Lower})$ is negative, and $f(\\mathit{Upper})$ is positive\r\n",
        "then there must be root in the interval, provided that the function is\r\n",
        "continuous. If the value of $f$ at $x_r$ is positive then the root must\r\n",
        "be in the interval $[Lower,x_r]$. If the value of $f$ at $x_r$ is\r\n",
        "negative then the root must be in the interval $[x_r,Upper]$. The\r\n",
        "algorithm should converge to the root because the length of the interval\r\n",
        "is getting smaller every time (in fact the length of the interval is\r\n",
        "halved every time). Does this sound familiar?"
      ],
      "metadata": {
        "id": "a0fd58b6"
      }
    },
    {
      "cell_type": "markdown",
      "source": [
        "## Your Tasks\n",
        "\n",
        "1. What is the input domain for the `Bisection` program below?\n",
        "\n",
        "2. Draw the control-flow graph for the `Bisection` function. You may break the function up into basic blocks to simplify your CFG.\n",
        "\n",
        "    **Recall** that a *basic block* is a continuous sequence of statements where control flows from one statement to the next, a single point of entry, a single point of exit and no branches or loops.\n",
        "\n",
        "3. Suppose that we concentrated on the (nice and linear) function $f(x) = x - 2$. Derive a set of test cases that achieve:\n",
        "    - Statement coverage; and\n",
        "    - Condition coverage.\n",
        "    \n",
        "    Note that you will have to determine what it means for the `Bisection` function to return the *correct* or *expected* output first.\n",
        "\n",
        "4. **Extended task**: After the tutorial, try implementing the tests in the JUnit driver below."
      ],
      "metadata": {
        "id": "92b1db19"
      }
    },
    {
      "cell_type": "markdown",
      "source": [
        "## The Program\n",
        "\n",
        "\n",
        "### Prepare the Java Kernel\n",
        "Since Java is not natively supported by Colab, we need to run the following code to enable Java kernel on Colab.\n",
        "\n",
        "1. Run the cell bellow (click it and press Shift+Enter),\n",
        "2. Refresh the Notebook (F5)\n",
        "3. Change the kernel to Java (Runtime -> Change Runtime Type -> Java)"
      ],
      "metadata": {
        "id": "804378d0"
      }
    },
    {
      "cell_type": "code",
      "execution_count": null,
      "source": [
        "!wget https://github.com/SpencerPark/IJava/releases/download/v1.3.0/ijava-1.3.0.zip\r\n",
        "!unzip ijava-1.3.0.zip\r\n",
        "!python install.py --sys-prefix"
      ],
      "outputs": [],
      "metadata": {
        "id": "d5161ba0"
      }
    },
    {
      "cell_type": "code",
      "execution_count": null,
      "source": [
        "%%loadFromPOM\r\n",
        "\r\n",
        "<dependency>\r\n",
        "  <groupId>junit</groupId>\r\n",
        "  <artifactId>junit</artifactId>\r\n",
        "  <version>4.13.2</version>\r\n",
        "</dependency>"
      ],
      "outputs": [],
      "metadata": {
        "id": "bc13d44e"
      }
    },
    {
      "cell_type": "markdown",
      "source": [
        "The following is a basic Java implementation of `Bisection`."
      ],
      "metadata": {
        "id": "26a8ba1c"
      }
    },
    {
      "cell_type": "code",
      "execution_count": null,
      "source": [
        "public class Bisection{\n",
        "\n",
        "    static final int MAX_INT = 65535;\n",
        "    \n",
        "    static double bisection(double lower, double upper, double error, int max) {\n",
        "        \n",
        "        double sign = 0.0; /* Test for the sign of the midpoint xr. */\n",
        "        double ea = MAX_INT; /* Calculated error value. */\n",
        "        double xrold = 0.0; /* Previous estimate. */\n",
        "        double xr = 0.0; /* Current x estimate for the root. */\n",
        "        double fr = 0.0; /* Current value of f. */\n",
        "        double fl = 0.0; /* Value of f at the lower end of the interval. */\n",
        "        int iteration = 0; /* For keeping track of the number of iterations. */\n",
        "        \n",
        "        fl = func(lower);\n",
        "        while ((ea > error && iteration < max)) {\n",
        "            \n",
        "            /* Start by memorising the old estimate in xrold and then calculate\n",
        "            the new estimate and store in fr */\n",
        "            xrold = xr;\n",
        "            xr = (lower + upper) / 2;\n",
        "            fr = func(xr);\n",
        "            iteration++;\n",
        "            /* Estimate the percentage error and store in ea. */\n",
        "            if (xr != 0) {\n",
        "                ea = Math.abs((xr - xrold)/xr) * 100;\n",
        "            }\n",
        "            \n",
        "            /* To know whether fr has the same sign as f(Lower) or f(Upper) is easy:\n",
        "            we know that f(Lower) is negative and we know that f(Upper) is positive.\n",
        "            Multiple fr by f(Lower) and if the result is positive then fr must be\n",
        "            negative. If the result is negative then fr must be positive. */\n",
        "            \n",
        "            sign = func(lower) * fr;\n",
        "            if (sign < 0)\n",
        "                upper = xr;\n",
        "            else if (sign > 0)\n",
        "                lower = xr;\n",
        "            else\n",
        "                ea = 0;\n",
        "            System.out.println(String.format(\"iteration %d = (%f, %f, %f, %f, %f)\\n\", iteration, lower, upper, xr, ea, sign));\n",
        "        }\n",
        "        return xr;\n",
        "    }\n",
        "    \n",
        "    static double func(double x) {\n",
        "        return x - 2;\n",
        "    }\n",
        "}"
      ],
      "outputs": [],
      "metadata": {
        "id": "625430b8"
      }
    },
    {
      "cell_type": "markdown",
      "source": [
        "## JUnit test script\n",
        "\n",
        "The following code block is a JUnit test script. JUnit is a unit-testing framework for Java that allows you to easily create tests that can be run automatically. \n",
        "\n",
        "In the code block below, put your test cases where is says \"Your test cases start here\". Add test cases by adding new elements to the data array. These will then be executed automatically by JUnit."
      ],
      "metadata": {
        "id": "7f61a27e"
      }
    },
    {
      "cell_type": "code",
      "execution_count": null,
      "source": [
        "import java.util.Arrays;\n",
        "import java.util.Collection;\n",
        "\n",
        "import org.junit.Test;\n",
        "import org.junit.runner.JUnitCore;\n",
        "import org.junit.runner.Result;\n",
        "import org.junit.runner.RunWith;\n",
        "import org.junit.runner.notification.Failure;\n",
        "import org.junit.runners.Parameterized;\n",
        "\n",
        "import junit.framework.TestCase;\n",
        "\n",
        "@RunWith(Parameterized.class)\n",
        "public class TestBisection extends TestCase {\n",
        "    \n",
        "    @Parameterized.Parameter(0)\n",
        "    public double lower;\n",
        "    @Parameterized.Parameter(1)\n",
        "    public double upper;\n",
        "    @Parameterized.Parameter(2)\n",
        "    public double error;\n",
        "    @Parameterized.Parameter(3)\n",
        "    public int max;\n",
        "    @Parameterized.Parameter(4)\n",
        "    public double results;\n",
        "\n",
        "    @Parameterized.Parameters(name = \"{index}: lower: {0} upper:{1} error:{2} iterations:{3} results:{5}\")\n",
        "    public static Collection<Object[]> data() {\n",
        "        Object[][] data = new Object[][]{\n",
        "            // Your Test cases start here\n",
        "            // Please follow the pattern: lower, upper, error, iterations, expected results\n",
        "            {-1.0, 7.0, 1, 10, 2.0},\n",
        "            {-1.0, 7.0, 1, 10, 2.0}\n",
        "            // Your Test cases end here\n",
        "            };\n",
        "        return Arrays.asList(data);\n",
        "    }\n",
        "\n",
        "    @Test\n",
        "    public void testBisection() {\n",
        "        assertEquals(results, Bisection.bisection(lower, upper, error, max));\n",
        "    }\n",
        "}"
      ],
      "outputs": [],
      "metadata": {
        "id": "7ed1cef5"
      }
    },
    {
      "cell_type": "code",
      "execution_count": null,
      "source": [
        "Result result = JUnitCore.runClasses(TestBisection.class);\n",
        "for (Failure failure : result.getFailures()) {\n",
        "     System.out.println(failure.toString());\n",
        "}\n",
        "System.out.println(String.format(\"Total run count: %s, Failed run count: %s\", result.getRunCount(), result.getFailureCount()));"
      ],
      "outputs": [
        {
          "output_type": "stream",
          "name": "stdout",
          "text": [
            "iteration 1 = (-1.000000, 3.000000, 3.000000, 100.000000, -3.000000)\n",
            "\n",
            "iteration 2 = (1.000000, 3.000000, 1.000000, 200.000000, 3.000000)\n",
            "\n",
            "iteration 3 = (1.000000, 3.000000, 2.000000, 0.000000, -0.000000)\n",
            "\n",
            "iteration 1 = (-1.000000, 3.000000, 3.000000, 100.000000, -3.000000)\n",
            "\n",
            "iteration 2 = (1.000000, 3.000000, 1.000000, 200.000000, 3.000000)\n",
            "\n",
            "iteration 3 = (1.000000, 3.000000, 2.000000, 0.000000, -0.000000)\n",
            "\n",
            "Total run count: 2, Failed run count: 0\n"
          ]
        }
      ],
      "metadata": {
        "id": "eb0485b6",
        "scrolled": false,
        "outputId": "ce74d455-7585-4ee9-eadd-ab4e213f9304"
      }
    }
  ]
}