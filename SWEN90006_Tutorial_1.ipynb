{
  "cells": [
    {
      "cell_type": "markdown",
      "metadata": {
        "colab_type": "text",
        "id": "view-in-github"
      },
      "source": [
        "<a href=\"https://colab.research.google.com/github/SWEN90006/tutorials/blob/main/SWEN900006_Tutorial_1.ipynb\" target=\"_parent\"><img src=\"https://colab.research.google.com/assets/colab-badge.svg\" alt=\"Open In Colab\"/></a>"
      ]
    },
    {
      "cell_type": "markdown",
      "metadata": {
        "id": "4Yoio5FLmgc4"
      },
      "source": [
        "# SWEN90006 Tutorial 1\n"
      ]
    },
    {
      "cell_type": "markdown",
      "metadata": {
        "id": "q8v6WXHiuzj2"
      },
      "source": [
        "## What is testing really?\n",
        "\n",
        "> *It works! Trust me, I've tested the code thoroughly!*\n",
        "\n",
        "With those bold words many software projects have been made bankrupt.\n",
        "\n",
        "The aim of this tutorial is to start to get an understanding of our\n",
        "major themes; that is, of the factors that make up quality and how\n",
        "testing effects them.\n",
        "\n",
        "Because we have not looked at testing formally yet, in this tutorial, you will be asked to test a small program fragment. It is a teaser to see where the difficulties of testing lay in practice."
      ]
    },
    {
      "cell_type": "markdown",
      "metadata": {
        "id": "OKIqiwmCu13k"
      },
      "source": [
        "## Important terminology\n",
        "\n",
        "Before beginning the exercises, consider the following three\n",
        "definitions, the first three of which are defined in the chapter [Introduction to software testing](https://swen90006.github.io/notes/An-Introduction-to-Testing.html) of the subject notes:\n",
        "\n",
        "- *Fault*: An incorrect step, process, or data definition in a computer program. Faults are the source of failures -- fault in the program triggers a failure under the right circumstances.\n",
        "\n",
        "- *Failure*: A deviation between the observed behaviour of a program, or a system, from its specification. Faults cause failures; and in fact, one fault can cause many failures.\n",
        "\n",
        "- *Error*: An incorrect *internal* state that is the result of some fault. An error may not result in a failure -- it is possible that an internal state is incorrect but that it does not affect the output. \n",
        "\n",
        "*Faults cause failures and errors*. A fault in a program can trigger a failure and/or an error under the right circumstances. In fact, a single fault could cause multiple failures and multiple errors. \n",
        "\n",
        "In normal language, software faults are usually referred to as \"bugs\", but the term \"bug\" is ambiguous and can mean to faults, failures, or errors; as such, as will avoid this term."
      ]
    },
    {
      "cell_type": "markdown",
      "metadata": {
        "id": "yAwh3-G8oG7U"
      },
      "source": [
        "## Your tasks\n",
        "\n",
        "The small programs below are taken from the exercises in Chapter 1 of  *Introduction to Software Testing* by Offutt and Ammann. For each program, the test case below the program results in a failure that is caused by a fault in the program.\n",
        "\n",
        "For each of the programs below, perform the following tasks:\n",
        "\n",
        "1. Identify the required data type of inputs. From next week, we formally refers to this as the Input Domain. \n",
        "2. Identify the fault.\n",
        "3. If possible, identify a test case that does not execute the faulty statement.\n",
        "4. If possible, identify a test case that executes the faulty statement, but does not result in an failure.\n",
        "5. If possible, identify a test case that forces the program into an error, but does not produce a failure.\n",
        "6. Fix the fault and verify that the given test now produces the expected output.\n",
        "7. [Open-ended discussion] Do you think your fix guarantees zero failures? "
      ]
    },
    {
      "cell_type": "markdown",
      "metadata": {
        "id": "lyQmz4pxoky5"
      },
      "source": [
        "## The programs"
      ]
    },
    {
      "cell_type": "code",
      "execution_count": 1,
      "metadata": {
        "colab": {
          "base_uri": "https://localhost:8080/",
          "height": 199
        },
        "id": "Pi-i5TeomNRZ",
        "outputId": "4d0f9574-fb0f-48cb-d670-8c1266e83451"
      },
      "outputs": [
        {
          "ename": "AssertionError",
          "evalue": "ignored",
          "output_type": "error",
          "traceback": [
            "\u001b[0;31m---------------------------------------------------------------------------\u001b[0m",
            "\u001b[0;31mAssertionError\u001b[0m                            Traceback (most recent call last)",
            "\u001b[0;32m<ipython-input-1-078d485698a3>\u001b[0m in \u001b[0;36m<module>\u001b[0;34m()\u001b[0m\n\u001b[1;32m     17\u001b[0m \u001b[0mx\u001b[0m \u001b[0;34m=\u001b[0m \u001b[0;34m[\u001b[0m\u001b[0;36m2\u001b[0m\u001b[0;34m,\u001b[0m \u001b[0;36m3\u001b[0m\u001b[0;34m,\u001b[0m \u001b[0;36m5\u001b[0m\u001b[0;34m]\u001b[0m\u001b[0;34m\u001b[0m\u001b[0;34m\u001b[0m\u001b[0m\n\u001b[1;32m     18\u001b[0m \u001b[0my\u001b[0m \u001b[0;34m=\u001b[0m \u001b[0;36m2\u001b[0m\u001b[0;34m\u001b[0m\u001b[0;34m\u001b[0m\u001b[0m\n\u001b[0;32m---> 19\u001b[0;31m \u001b[0;32massert\u001b[0m \u001b[0mfind_last\u001b[0m\u001b[0;34m(\u001b[0m\u001b[0mx\u001b[0m\u001b[0;34m,\u001b[0m \u001b[0my\u001b[0m\u001b[0;34m)\u001b[0m \u001b[0;34m==\u001b[0m \u001b[0;36m0\u001b[0m\u001b[0;34m,\u001b[0m \u001b[0;34m\"Test failed: find_last(%s, %d) == %d\"\u001b[0m \u001b[0;34m%\u001b[0m \u001b[0;34m(\u001b[0m\u001b[0mx\u001b[0m\u001b[0;34m,\u001b[0m \u001b[0my\u001b[0m\u001b[0;34m,\u001b[0m \u001b[0mfind_last\u001b[0m\u001b[0;34m(\u001b[0m\u001b[0mx\u001b[0m\u001b[0;34m,\u001b[0m \u001b[0my\u001b[0m\u001b[0;34m)\u001b[0m\u001b[0;34m)\u001b[0m\u001b[0;34m\u001b[0m\u001b[0;34m\u001b[0m\u001b[0m\n\u001b[0m",
            "\u001b[0;31mAssertionError\u001b[0m: Test failed: find_last([2, 3, 5], 2) == -1"
          ]
        }
      ],
      "source": [
        "'''\n",
        "  x is a list of integers\n",
        "  y is an integer\n",
        "  Return the index of the last element in x that equals y. \n",
        "  If no such element exists, return -1\n",
        "'''\n",
        "def find_last (x, y):\n",
        "  i = len(x) - 1\n",
        "  while i > 0:\n",
        "    if x[i] == y:\n",
        "      return i\n",
        "    i -= 1\n",
        "  return -1\n",
        "\n",
        "# The expected output is 0 (the 0th element)\n",
        "x = [2, 3, 5]\n",
        "y = 2\n",
        "assert find_last(x, y) == 0, \"Test failed: find_last(%s, %d) == %d\" % (x, y, find_last(x, y))"
      ]
    },
    {
      "cell_type": "code",
      "execution_count": null,
      "metadata": {
        "colab": {
          "base_uri": "https://localhost:8080/",
          "height": 197
        },
        "id": "IWbgJIK0qr9d",
        "outputId": "10a8edd4-f22a-437d-bec6-8afb9ef15400"
      },
      "outputs": [
        {
          "ename": "AssertionError",
          "evalue": "ignored",
          "output_type": "error",
          "traceback": [
            "\u001b[0;31m---------------------------------------------------------------------------\u001b[0m",
            "\u001b[0;31mAssertionError\u001b[0m                            Traceback (most recent call last)",
            "\u001b[0;32m<ipython-input-14-43b1feffcc29>\u001b[0m in \u001b[0;36m<module>\u001b[0;34m()\u001b[0m\n\u001b[1;32m     15\u001b[0m \u001b[0;31m# The expected output is 2\u001b[0m\u001b[0;34m\u001b[0m\u001b[0;34m\u001b[0m\u001b[0;34m\u001b[0m\u001b[0m\n\u001b[1;32m     16\u001b[0m \u001b[0mx\u001b[0m \u001b[0;34m=\u001b[0m \u001b[0;34m[\u001b[0m\u001b[0;36m0\u001b[0m\u001b[0;34m,\u001b[0m \u001b[0;36m1\u001b[0m\u001b[0;34m,\u001b[0m \u001b[0;36m0\u001b[0m\u001b[0;34m]\u001b[0m\u001b[0;34m\u001b[0m\u001b[0;34m\u001b[0m\u001b[0m\n\u001b[0;32m---> 17\u001b[0;31m \u001b[0;32massert\u001b[0m \u001b[0mlast_zero\u001b[0m\u001b[0;34m(\u001b[0m\u001b[0mx\u001b[0m\u001b[0;34m)\u001b[0m \u001b[0;34m==\u001b[0m \u001b[0;36m2\u001b[0m\u001b[0;34m,\u001b[0m \u001b[0;34m\"Test failed: last_zero(%s) == %d\"\u001b[0m \u001b[0;34m%\u001b[0m \u001b[0;34m(\u001b[0m\u001b[0mx\u001b[0m\u001b[0;34m,\u001b[0m \u001b[0mlast_zero\u001b[0m\u001b[0;34m(\u001b[0m\u001b[0mx\u001b[0m\u001b[0;34m)\u001b[0m\u001b[0;34m)\u001b[0m\u001b[0;34m\u001b[0m\u001b[0;34m\u001b[0m\u001b[0m\n\u001b[0m",
            "\u001b[0;31mAssertionError\u001b[0m: Test failed: last_zero([0, 1, 0]) == 0"
          ]
        }
      ],
      "source": [
        "'''\n",
        "  x is a list of integers\n",
        "  Return the index of the LAST 0 in x.\n",
        "  Return -1 if 0 does not occur in x.\n",
        "'''\n",
        "def last_zero(x):\n",
        "  i = 0\n",
        "  while i < len(x):\n",
        "    if x[i] == 0:\n",
        "      return i\n",
        "    i += 1\n",
        "  return -1\n",
        "\n",
        "# The expected output is 2\n",
        "x = [0, 1, 0]\n",
        "assert last_zero(x) == 2, \"Test failed: last_zero(%s) == %d\" % (x, last_zero(x))"
      ]
    },
    {
      "cell_type": "code",
      "execution_count": null,
      "metadata": {
        "colab": {
          "base_uri": "https://localhost:8080/",
          "height": 197
        },
        "id": "RdDJeQCNrIVt",
        "outputId": "79b8c2b7-75b6-4196-92c5-a5f0700334e1"
      },
      "outputs": [
        {
          "ename": "AssertionError",
          "evalue": "ignored",
          "output_type": "error",
          "traceback": [
            "\u001b[0;31m---------------------------------------------------------------------------\u001b[0m",
            "\u001b[0;31mAssertionError\u001b[0m                            Traceback (most recent call last)",
            "\u001b[0;32m<ipython-input-15-4471dd01f8be>\u001b[0m in \u001b[0;36m<module>\u001b[0;34m()\u001b[0m\n\u001b[1;32m     15\u001b[0m \u001b[0;31m# The expected output is 2\u001b[0m\u001b[0;34m\u001b[0m\u001b[0;34m\u001b[0m\u001b[0;34m\u001b[0m\u001b[0m\n\u001b[1;32m     16\u001b[0m \u001b[0mx\u001b[0m \u001b[0;34m=\u001b[0m \u001b[0;34m[\u001b[0m\u001b[0;34m-\u001b[0m\u001b[0;36m4\u001b[0m\u001b[0;34m,\u001b[0m \u001b[0;36m2\u001b[0m\u001b[0;34m,\u001b[0m \u001b[0;36m0\u001b[0m\u001b[0;34m,\u001b[0m \u001b[0;36m2\u001b[0m\u001b[0;34m]\u001b[0m\u001b[0;34m\u001b[0m\u001b[0;34m\u001b[0m\u001b[0m\n\u001b[0;32m---> 17\u001b[0;31m \u001b[0;32massert\u001b[0m \u001b[0mcount_positive\u001b[0m\u001b[0;34m(\u001b[0m\u001b[0mx\u001b[0m\u001b[0;34m)\u001b[0m \u001b[0;34m==\u001b[0m \u001b[0;36m2\u001b[0m\u001b[0;34m,\u001b[0m \u001b[0;34m\"Test failed: count_positive(%s) == %d\"\u001b[0m \u001b[0;34m%\u001b[0m \u001b[0;34m(\u001b[0m\u001b[0mx\u001b[0m\u001b[0;34m,\u001b[0m \u001b[0mcount_positive\u001b[0m\u001b[0;34m(\u001b[0m\u001b[0mx\u001b[0m\u001b[0;34m)\u001b[0m\u001b[0;34m)\u001b[0m\u001b[0;34m\u001b[0m\u001b[0;34m\u001b[0m\u001b[0m\n\u001b[0m",
            "\u001b[0;31mAssertionError\u001b[0m: Test failed: count_positive([-4, 2, 0, 2]) == 3"
          ]
        }
      ],
      "source": [
        "'''\n",
        "  x is a list of integers\n",
        "  Return the number of _strictly_ positive elements in x.\n",
        "'''\n",
        "def count_positive(x):\n",
        "  count = 0\n",
        "  i = 0\n",
        "  while i < len(x):\n",
        "    if x[i] >= 0:\n",
        "      count += 1\n",
        "    i += 1\n",
        "  return count\n",
        "\n",
        "# The expected output is 2\n",
        "x = [-4, 2, 0, 2]\n",
        "assert count_positive(x) == 2, \"Test failed: count_positive(%s) == %d\" % (x, count_positive(x))"
      ]
    }
  ],
  "metadata": {
    "colab": {
      "authorship_tag": "ABX9TyPwUfUB9xTPqHy6Q1UKenSH",
      "collapsed_sections": [],
      "include_colab_link": true,
      "name": "SWEN900006 Tutorial 1.ipynb",
      "provenance": [],
      "toc_visible": true
    },
    "kernelspec": {
      "display_name": "Python 3",
      "name": "python3"
    },
    "language_info": {
      "name": "python"
    }
  },
  "nbformat": 4,
  "nbformat_minor": 0
}
