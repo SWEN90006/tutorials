{
 "cells": [
  {
   "cell_type": "markdown",
   "id": "27b19e53",
   "metadata": {
    "colab_type": "text",
    "id": "view-in-github"
   },
   "source": [
    "<a href=\"https://colab.research.google.com/github/SWEN90006/tutorials/blob/main/SWEN900006_Tutorial_2.ipynb\" target=\"_parent\"><img src=\"https://colab.research.google.com/assets/colab-badge.svg\" alt=\"Open In Colab\"/></a>"
   ]
  },
  {
   "cell_type": "markdown",
   "id": "ba935bd3",
   "metadata": {
    "id": "f5185ac9"
   },
   "source": [
    "# SWEN90006 Tutorial 2"
   ]
  },
  {
   "cell_type": "markdown",
   "id": "215b367d",
   "metadata": {
    "id": "c2e1bd92"
   },
   "source": [
    "## Introduction\n",
    "The aim of this tutorial is twofold. First, it aims to give you some practise at deriving test cases from specifications. Second, it aims for you to start exploring the limits of your test cases, and of the specifications."
   ]
  },
  {
   "cell_type": "markdown",
   "id": "e658dffd",
   "metadata": {
    "id": "41331ddb"
   },
   "source": [
    "## The LWIG Program\n",
    "**Input File:** The input file format is as follows. Each line saves\n",
    "the data for a single student, which contains several fields.\n",
    "Each field is separated by a colon.\n",
    "\n",
    "Each line consists of the following fields, in order:\n",
    "\n",
    "-   A student number, which must be a 5 digit, 6 digit or 9 digit\n",
    "    number.\n",
    "\n",
    "-   The student's month of birth, which must be a string of 3 alphabetic\n",
    "    characters with the first character capitalised and the remaining in\n",
    "    lower case. That is, it must be from the set:\n",
    "    \n",
    "    $$\\{Jan, Feb, Mar, Apr, May, Jun, Jul, Aug, Sep, Oct, Nov, Dec\\}$$\n",
    "\n",
    "-   The day of birth, which must be a number from 1--31 and must be within\n",
    "    the valid range of days in that month; that is, it cannot be 30\n",
    "    February, because February never has 30 days.\n",
    "\n",
    "-   The student's surname, which must be a string of alphabetic\n",
    "    characters all in capitals.\n",
    "\n",
    "-   The first letter of the student's first name, which must be a single\n",
    "    capitalised alphabetic character.\n",
    "\n",
    "-   The number of lectures that they slept through, which must be an\n",
    "    integer between 0 and 24 (both inclusive).\n",
    "\n",
    "If any input row is invalid, the program should print a warning message\n",
    "and continue with the next record. If the program encounters a more\n",
    "serious problem (e.g. unable to open input file), it will print an error\n",
    "message and exit gracefully."
   ]
  },
  {
   "cell_type": "markdown",
   "id": "eb507766",
   "metadata": {
    "id": "84bf0d7f"
   },
   "source": [
    "\n",
    "**Example 1**. *As an example, suppose we had the following data.*\n",
    "\n",
    "-   *Student number: 12345*\n",
    "\n",
    "-   *Month of Birth: May*\n",
    "\n",
    "-   *Day of Birth: 26*\n",
    "\n",
    "-   *Surname: CHAN*\n",
    "\n",
    "-   *First letter of first name: K*\n",
    "\n",
    "-   *Number of lecture(s) slept through: 0*\n",
    "\n",
    "*The input line for this data would be `12345:May:26:CHAN:K:0`*"
   ]
  },
  {
   "cell_type": "markdown",
   "id": "5d688cf6",
   "metadata": {
    "id": "dfce6906"
   },
   "source": [
    "## Tasks\n",
    "\n",
    "1. What is the input domain for the LWIG program? What are the input conditions for the LWIG program?\n",
    "\n",
    "2. Derive input test-cases for the program using equivalence partitioning, draw a test template tree to derive equivalence classes systematically and without overlap. \n",
    "\n",
    "3. Implement your tests in the JUnit driver below. Do your tests find any faults?\n",
    "\n",
    "4. We implemented 4 faults in the LWIG program, how many faults did your test reveal? Why does or doesn't equivalence partitioning find all of them? \n",
    "\n",
    "5. [take home question] Of course, the client has not completely specified the program (but, that is to be expected). There is an additional requirement that the records can be sorted by different output fields.\n",
    "    What are the implications of sorting on the various fields and what test cases would you choose to ensure that sorting has been correctly implemented?"
   ]
  },
  {
   "cell_type": "markdown",
   "id": "07f7c236",
   "metadata": {
    "id": "863d3328"
   },
   "source": [
    "## Java Implementation\n",
    "\n",
    "The following code is a minimal implementation of the LWIG program. \n",
    "\n",
    "For the purpose of this tutorial, let's assume that the input file has already been parsed into an array containing the important elements.\n",
    "\n",
    "### Prepare the Java Kernel\n",
    "Since Java is not natively supported by Colab, we need to run the following code to enable Java kernel on Colab.\n",
    "\n",
    "1. Run the cell bellow (click it and press Shift+Enter),\n",
    "2. Change the kernel to java_use (Runtime -> Change Runtime Type -> select **\"java_use\"** -> Save)\n",
    "3. Try and run the following cells. The java kernel is ready if the you can load the JUnit library in the following cell. \n",
    "\n",
    "### Trouble shooting\n",
    "  * There are two Java runtimes having similar names that you can select in step 2. If you accidentally select **java** instead of **java_use**, Colab will enter an indefinite loop, show **connecting**, and the bottom bar has a message saying \"Connecting to **java_tcp** Google Compute Engine backend\", you should delete the runtime (Runtime -> Disconnect and Delete Runtime), and run step 1 again. \n",
    "    * The working runtime has a log message saying it is **connecting to java Google Compute Enginge Backend**"
   ]
  },
  {
   "cell_type": "code",
   "execution_count": null,
   "id": "6defd19e",
   "metadata": {
    "id": "lHpILvGVHBMq",
    "vscode": {
     "languageId": "java"
    }
   },
   "outputs": [],
   "source": [
    "%%sh\n",
    "# Install java kernel\n",
    "wget -q https://github.com/SpencerPark/IJava/releases/download/v1.3.0/ijava-1.3.0.zip \n",
    "unzip -q ijava-1.3.0.zip \n",
    "python install.py\n",
    "\n",
    "# Install proxy for the java kernel\n",
    "wget -qO- https://gist.github.com/wenta0g/67289a9b2e54b8128109abb3aff2194b/archive/0707f5d61d156ce2830505679994b0f1a606589b.tar.gz | tar xvz --strip-components=1\n",
    "python install_ipc_proxy_kernel.py --kernel=java --implementation=ipc_proxy_kernel.py"
   ]
  },
  {
   "cell_type": "code",
   "execution_count": null,
   "id": "a8f145d0",
   "metadata": {
    "id": "48be5302",
    "vscode": {
     "languageId": "java"
    }
   },
   "outputs": [],
   "source": [
    "%%loadFromPOM\n",
    "\n",
    "<dependency>\n",
    "  <groupId>junit</groupId>\n",
    "  <artifactId>junit</artifactId>\n",
    "  <version>4.13.2</version>\n",
    "</dependency>"
   ]
  },
  {
   "cell_type": "markdown",
   "id": "a525b605",
   "metadata": {
    "id": "ceCuEzQItVqj"
   },
   "source": [
    "## LWIG Implementation\n",
    "\n",
    "The following is a basic Java implementation of LWIG."
   ]
  },
  {
   "cell_type": "code",
   "execution_count": null,
   "id": "040f4a27",
   "metadata": {
    "id": "x_cr17kAD5Id",
    "vscode": {
     "languageId": "java"
    }
   },
   "outputs": [],
   "source": [
    "import java.time.*;\n",
    "import java.time.format.*;\n",
    "import java.util.Arrays;\n",
    "import java.util.Collection;\n",
    "import java.util.Locale;\n",
    "\n",
    "public class LWIG {\n",
    "\n",
    "    public static boolean isValidDate(String month, String date) {\n",
    "        boolean isValid = false;\n",
    "        try {\n",
    "            DateTimeFormatter dtf = new DateTimeFormatterBuilder()\n",
    "                .parseCaseInsensitive()         \n",
    "                .appendPattern(\"d-MMM-uuuu\")  \n",
    "                .toFormatter(Locale.ENGLISH);\n",
    "            LocalDate.parse(String.format(\"%s-%s-2012\", date, month), dtf); // Hard coded a leap year or common year\n",
    "            isValid = true;\n",
    "        } catch (Exception e) {\n",
    "            //e.printStackTrace();\n",
    "            isValid = false;\n",
    "        }\n",
    "        return isValid;\n",
    "    }\n",
    "    \n",
    "    public static boolean isValidID(String id) {\n",
    "        String regEx = \"^(\\\\d{5}|\\\\d{6}|\\\\d{9}|\\\\d{10})$\"; // \n",
    "        return id.matches(regEx);\n",
    "    }\n",
    "    \n",
    "    public static boolean isValidSurname(String name)\n",
    "    {\n",
    "        String regEx = \"^[A-Z]+$\";\n",
    "        return name.matches(regEx);\n",
    "    }\n",
    "    \n",
    "    public static boolean isValidFirstLetter(String name)\n",
    "    {\n",
    "        String regEx = \"^[A-Z]$\";\n",
    "        return name.matches(regEx);\n",
    "    }\n",
    "    \n",
    "    public static boolean isValidSleptCount(String number)\n",
    "    {\n",
    "        boolean isValid = false;\n",
    "        try {\n",
    "            int count = Integer.parseInt(number);\n",
    "            if (count >= 0 && count < 24) {\n",
    "                isValid = true;\n",
    "            }\n",
    "        } catch (Exception e) {\n",
    "            isValid = false;\n",
    "        }\n",
    "        return isValid;\n",
    "    }\n",
    "}"
   ]
  },
  {
   "cell_type": "markdown",
   "id": "0f73bfa9",
   "metadata": {
    "id": "609de918"
   },
   "source": [
    "##JUnit test script\n",
    "\n",
    "The following code block is a JUnit test script. JUnit is a unit-testing framework for Java that allows you to easily create tests that can be run automatically. \n",
    "\n",
    "In the code block below, put your test cases where is says \"Your test cases start here\". Add test cases by adding new elements to the data array. These will then be executed automatically by JUnit."
   ]
  },
  {
   "cell_type": "code",
   "execution_count": null,
   "id": "c2aa73dd",
   "metadata": {
    "id": "8f47ce10",
    "vscode": {
     "languageId": "java"
    }
   },
   "outputs": [],
   "source": [
    "import junit.framework.TestCase;\n",
    "\n",
    "import org.junit.Test;\n",
    "import org.junit.runner.*;\n",
    "import org.junit.runner.RunWith;\n",
    "import org.junit.runner.notification.Failure;\n",
    "import org.junit.runners.Parameterized;\n",
    "\n",
    "@RunWith(Parameterized.class)\n",
    "public class LWIGTestCase extends TestCase {\n",
    "    \n",
    "    @Parameterized.Parameter(0)\n",
    "    public String id;\n",
    "    @Parameterized.Parameter(1)\n",
    "    public String month;\n",
    "    @Parameterized.Parameter(2)\n",
    "    public String date;\n",
    "    @Parameterized.Parameter(3)\n",
    "    public String surname;\n",
    "    @Parameterized.Parameter(4)\n",
    "    public String firstLetter;\n",
    "    @Parameterized.Parameter(5)\n",
    "    public String sleptCount;\n",
    "    @Parameterized.Parameter(6)\n",
    "    public boolean result;\n",
    "    \n",
    "    @Test\n",
    "    public void testLWIG() {\n",
    "        boolean expectedResult = LWIG.isValidID(id) &&\n",
    "            LWIG.isValidDate(month, date) &&\n",
    "            LWIG.isValidSurname(surname) &&\n",
    "            LWIG.isValidFirstLetter(firstLetter) &&\n",
    "            LWIG.isValidSleptCount(sleptCount);\n",
    "        assertEquals(result, expectedResult);\n",
    "    }\n",
    "\n",
    "    @Parameterized.Parameters(name = \"Test case {index} failed: LWIG with id = {0}, Mon = {1}, date = {2}, surname = {3}, first letter = {4}, slept count = {5}, expected result = {6}\")\n",
    "    public static Collection<Object[]> data() {\n",
    "        Object[][] data = new Object[][]{\n",
    "            // Your Test cases start here\n",
    "            {\"13456\", \"Jan\", \"30\", \"CHAN\", \"K\", \"1\", true}, \n",
    "            {\"12345678\", \"Feb\", \"26\", \"TOM\", \"3\", \"0\", true}\n",
    "            // Your Test cases end here\n",
    "            };\n",
    "        return Arrays.asList(data);\n",
    "    }\n",
    "}"
   ]
  },
  {
   "cell_type": "code",
   "execution_count": null,
   "id": "5f33ab70",
   "metadata": {
    "id": "eirtRU97oeUx",
    "vscode": {
     "languageId": "java"
    }
   },
   "outputs": [],
   "source": [
    "Result result = JUnitCore.runClasses(LWIGTestCase.class);\n",
    "for (Failure failure : result.getFailures()) {\n",
    "     System.out.println(failure.toString());\n",
    "}\n",
    "System.out.println(String.format(\"Total run count: %s, Failed run count: %s\", result.getRunCount(), result.getFailureCount()));"
   ]
  },
  {
   "cell_type": "code",
   "execution_count": null,
   "id": "889ce680",
   "metadata": {
    "vscode": {
     "languageId": "java"
    }
   },
   "outputs": [],
   "source": []
  }
 ],
 "metadata": {
  "colab": {
   "include_colab_link": true,
   "name": "Tutorial_02_LWIG.ipynb",
   "provenance": []
  },
  "kernelspec": {
   "display_name": "Java",
   "language": "java",
   "name": "java"
  },
  "language_info": {
   "codemirror_mode": "java",
   "file_extension": ".jshell",
   "mimetype": "text/x-java-source",
   "name": "Java",
   "pygments_lexer": "java",
   "version": "10.0.2+13"
  }
 },
 "nbformat": 4,
 "nbformat_minor": 5
}
