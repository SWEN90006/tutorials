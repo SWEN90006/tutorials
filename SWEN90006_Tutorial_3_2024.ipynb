{
 "cells": [
  {
   "cell_type": "markdown",
   "metadata": {},
   "source": [
    "<a href=\"https://colab.research.google.com/github/SWEN90006/tutorials/blob/main/SWEN90006_Tutorial_3.ipynb\" target=\"_parent\"><img src=\"https://colab.research.google.com/assets/colab-badge.svg\" alt=\"Open In Colab\"/></a>"
   ]
  },
  {
   "cell_type": "markdown",
   "metadata": {},
   "source": [
    "# SWEN90006 Tutorial 3"
   ]
  },
  {
   "cell_type": "markdown",
   "metadata": {},
   "source": [
    "## Introduction\n",
    "The aim of this tutorial is twofold. \n",
    "\n",
    "First, we use last week's LWIG Program to perform bounary value analysis. \n",
    "\n",
    "Second, you can familiarise yourself with the terms used when describing the source code under test, draw control flow graphs, and briefly touch on coverage-based criteria. "
   ]
  },
  {
   "cell_type": "markdown",
   "metadata": {},
   "source": [
    "# Part 1: Boundary-Value Analysis\n",
    "\n",
    "Recap on the guidelines to derive test cases using boundary value analysis. \n",
    "\n",
    "## Your tasks:\n",
    "\n",
    "1. Using the table below, given the domain boundary to test, find on points and off points of all the boundaries. \n",
    "\n",
    "\n",
    "    | input  | domain boundary | \n",
    "    | -----------  | --------------- |\n",
    "    | integer i | i = 4 |\n",
    "    | integer i | i <= 15 |\n",
    "    | integer i | i > 10 |\n",
    "    | char c | 'a' <= c <= 'z' (use ASCII code) |\n",
    "    | string s | s = \"TEST\"  |\n",
    "\n",
    "\n",
    "\n",
    "2. Recall the LWIG program from last week, derive test cases using boundary value analysis for the following Equivalence classes. For simplisity, you only need to consider the boundary related to input Date. \n",
    "\n",
    "    EC7; having length[s] = 6, Month = Feb, Date < 1 \n",
    "\n",
    "    EC8; having length[s] = 6, Month = Feb, Date $\\in$ [1,29]\n",
    "\n",
    "    EC9; having length[s] = 6, Month = Feb, Date > 29\n",
    "\n",
    "\n",
    "\n",
    "3. \\[take home\\] Derive test cases using boundary value analysis for the rest of equivalent classes identified last week. \n",
    "\n",
    "\n"
   ]
  },
  {
   "cell_type": "markdown",
   "metadata": {},
   "source": [
    "# Part 2: Control Flow Testing"
   ]
  },
  {
   "cell_type": "markdown",
   "metadata": {},
   "source": [
    "We have a different type of program under test this week, which is a numerical\n",
    "program. One of the challenges of numerical programs is that we can\n",
    "never be certain that we will get an *exact* answer to our computation.\n",
    "Instead what we typically require is an answer within some *error*\n",
    "margin. Numerical programs are tricky to debug, because there may not exists a golden rule to *find* the expected output of the program. For\n",
    "example, solving some integration or differentiation problems is too\n",
    "hard to do by hand and so we use a *numerical* method to approximate the\n",
    "answer. Depending on the methods of your apporximation, the actual output may not be predictable"
   ]
  },
  {
   "cell_type": "markdown",
   "metadata": {},
   "source": [
    "## Working With the Program\n",
    "The program implements the standard bisection method for root finding.\n",
    "The root-finding problem is expressed as follows:\n",
    "\n",
    "> We are given a function $f(x)$ taking a real number and returning a\n",
    "> real number; that is a function $f: \\mathbb{R} \\rightarrow \\mathbb{R}$. The function is negative at some point $x_0$ and\n",
    "> positive at some point $x_1$. Find the value $x$ for which $f(x) = 0$\n",
    "> on an interval $[Lower,Upper]$. The point $x$ is a root of $f$ on the\n",
    "> interval $[Lower,Upper]$.\n",
    "\n",
    "As an example, consider the natural logarithm function, $ln$. The graph\n",
    "in Figure 1 shows the values of $ln(x)$ for various values\n",
    "of $x$. We can see that the value of $ln(x)$ is equal to 0 when $x=1$.\n",
    "The bisection algorithm finds this value of $x$.\n",
    "\n",
    "<img src=\"https://raw.githubusercontent.com/SWEN90006/tutorials/main/figures/Log-Graph.png\" width=\"60%\">\n",
    "\n",
    "<center>Figure 1: Root finding problems.</center>\n",
    "\n",
    "The idea behind the algorithm for finding roots is to look at the\n",
    "interval $[Lower,Upper]$ and bisect it (hence the name of the algorithm)\n",
    "and find the midpoint of the interval $x_r$. If we know that\n",
    "$f(\\mathit{Lower})$ is negative, and $f(\\mathit{Upper})$ is positive\n",
    "then there must be root in the interval, provided that the function is\n",
    "continuous. If the value of $f$ at $x_r$ is positive then the root must\n",
    "be in the interval $[Lower,x_r]$. If the value of $f$ at $x_r$ is\n",
    "negative then the root must be in the interval $[x_r,Upper]$. The\n",
    "algorithm should converge to the root because the length of the interval\n",
    "is getting smaller every time (in fact the length of the interval is\n",
    "halved every time). Does this sound familiar?"
   ]
  },
  {
   "cell_type": "markdown",
   "metadata": {},
   "source": [
    "## Your Tasks\n",
    "\n",
    "\n",
    "1. What is the input domain for the `Bisection` program below?\n",
    "\n",
    "2. Draw the control-flow graph for the `Bisection` function. You may break the function up into basic blocks to simplify your CFG.\n",
    "\n",
    "    **Recall** that a *basic block* is a continuous sequence of statements where control flows from one statement to the next, a single point of entry, a single point of exit and no branches or loops.\n",
    "\n",
    "3. Suppose that we concentrated on the (nice and linear) function $f(x) = x - 2$. Derive a set of test cases that can:\n",
    "    - Execute every statement of the program under test at least once. Formally we call it achieving 100% statement coverage \n",
    "    - Each condition if a branch is made to evaluate to true and false at least once. Formally we call it achieving 100% condition coverage. \n",
    "    \n",
    "    Note that you will have to determine what it means for the `Bisection` function to return the *correct* or *expected* output first.\n",
    "\n",
    "4. **Extended task**: After the tutorial, try implementing the tests in the JUnit driver below."
   ]
  },
  {
   "cell_type": "markdown",
   "metadata": {},
   "source": [
    "## The Program\n",
    "\n",
    "### Prepare the Java Kernel\n",
    "Since Java is not natively supported by Colab, we need to run the following code to enable Java kernel on Colab.\n",
    "\n",
    "1. Run the cell bellow (click it and press Shift+Enter),\n",
    "2. Change the kernel to java_use (Runtime -> Change Runtime Type -> select **\"java_use\"** -> Save)\n",
    "3. Try and run the following cells. The java kernel is ready if the you can load the JUnit library in the following cell. \n",
    "\n",
    "### Trouble shooting\n",
    "  * There are two Java runtimes having similar names that you can select in step 2. If you accidentally select **java** instead of **java_use**, Colab will enter an indefinite loop, show **connecting**, and the bottom bar has a message saying \"Connecting to **java_tcp** Google Compute Engine backend\", you should delete the runtime (Runtime -> Disconnect and Delete Runtime), and run step 1 again. \n",
    "    * The working runtime has a log message saying it is **connecting to java Google Compute Enginge Backend**\n",
    "  * There are cases if you colab display is not in English, the behaviour "
   ]
  },
  {
   "cell_type": "code",
   "execution_count": null,
   "metadata": {
    "vscode": {
     "languageId": "java"
    }
   },
   "outputs": [],
   "source": [
    "%%sh\n",
    "# Install java kernel\n",
    "wget -q https://github.com/SpencerPark/IJava/releases/download/v1.3.0/ijava-1.3.0.zip \n",
    "unzip -q ijava-1.3.0.zip \n",
    "python install.py\n",
    "\n",
    "# Install proxy for the java kernel\n",
    "wget -qO- https://gist.github.com/wenta0g/67289a9b2e54b8128109abb3aff2194b/archive/0707f5d61d156ce2830505679994b0f1a606589b.tar.gz | tar xvz --strip-components=1\n",
    "python install_ipc_proxy_kernel.py --kernel=java --implementation=ipc_proxy_kernel.py"
   ]
  },
  {
   "cell_type": "code",
   "execution_count": null,
   "metadata": {
    "vscode": {
     "languageId": "java"
    }
   },
   "outputs": [],
   "source": [
    "%%loadFromPOM\n",
    "\n",
    "<dependency>\n",
    "  <groupId>junit</groupId>\n",
    "  <artifactId>junit</artifactId>\n",
    "  <version>4.13.2</version>\n",
    "</dependency>"
   ]
  },
  {
   "cell_type": "markdown",
   "metadata": {},
   "source": [
    "The following is a basic Java implementation of `Bisection`."
   ]
  },
  {
   "cell_type": "code",
   "execution_count": null,
   "metadata": {
    "vscode": {
     "languageId": "java"
    }
   },
   "outputs": [],
   "source": [
    "public class Bisection{\n",
    "\n",
    "    static final int MAX_INT = 65535;\n",
    "    \n",
    "    static double bisection(double lower, double upper, double error, int max) {\n",
    "        \n",
    "        double sign = 0.0; /* Test for the sign of the midpoint xr. */\n",
    "        double ea = MAX_INT; /* Calculated error value. */\n",
    "        double xrold = 0.0; /* Previous estimate. */\n",
    "        double xr = 0.0; /* Current x estimate for the root. */\n",
    "        double fr = 0.0; /* Current value of f. */\n",
    "        double fl = 0.0; /* Value of f at the lower end of the interval. */\n",
    "        int iteration = 0; /* For keeping track of the number of iterations. */\n",
    "        \n",
    "        fl = func(lower);\n",
    "        while ((ea > error && iteration < max)) {\n",
    "            \n",
    "            /* Start by memorising the old estimate in xrold and then calculate\n",
    "            the new estimate and store in fr */\n",
    "            xrold = xr;\n",
    "            xr = (lower + upper) / 2;\n",
    "            fr = func(xr);\n",
    "            iteration++;\n",
    "            /* Estimate the percentage error and store in ea. */\n",
    "            if (xr != 0) {\n",
    "                ea = Math.abs((xr - xrold)/xr) * 100;\n",
    "            }\n",
    "            \n",
    "            /* To know whether fr has the same sign as f(Lower) or f(Upper) is easy:\n",
    "            we know that f(Lower) is negative and we know that f(Upper) is positive.\n",
    "            Multiple fr by f(Lower) and if the result is positive then fr must be\n",
    "            negative. If the result is negative then fr must be positive. */\n",
    "            \n",
    "            sign = func(lower) * fr;\n",
    "            if (sign < 0)\n",
    "                upper = xr;\n",
    "            else if (sign > 0)\n",
    "                lower = xr;\n",
    "            else\n",
    "                ea = 0;\n",
    "            System.out.println(String.format(\"iteration %d = (%f, %f, %f, %f, %f)\\n\", iteration, lower, upper, xr, ea, sign));\n",
    "        }\n",
    "        return xr;\n",
    "    }\n",
    "    \n",
    "    static double func(double x) {\n",
    "        return x - 2;\n",
    "    }\n",
    "}"
   ]
  },
  {
   "cell_type": "markdown",
   "metadata": {},
   "source": [
    "## JUnit test script\n",
    "\n",
    "The following code block is a JUnit test script. JUnit is a unit-testing framework for Java that allows you to easily create tests that can be run automatically. \n",
    "\n",
    "In the code block below, put your test cases where is says \"Your test cases start here\". Add test cases by adding new elements to the data array. These will then be executed automatically by JUnit."
   ]
  },
  {
   "cell_type": "code",
   "execution_count": null,
   "metadata": {
    "vscode": {
     "languageId": "java"
    }
   },
   "outputs": [],
   "source": [
    "import java.util.Arrays;\n",
    "import java.util.Collection;\n",
    "\n",
    "import org.junit.Test;\n",
    "import org.junit.runner.JUnitCore;\n",
    "import org.junit.runner.Result;\n",
    "import org.junit.runner.RunWith;\n",
    "import org.junit.runner.notification.Failure;\n",
    "import org.junit.runners.Parameterized;\n",
    "\n",
    "import junit.framework.TestCase;\n",
    "\n",
    "@RunWith(Parameterized.class)\n",
    "public class TestBisection extends TestCase {\n",
    "    \n",
    "    @Parameterized.Parameter(0)\n",
    "    public double lower;\n",
    "    @Parameterized.Parameter(1)\n",
    "    public double upper;\n",
    "    @Parameterized.Parameter(2)\n",
    "    public double error;\n",
    "    @Parameterized.Parameter(3)\n",
    "    public int max;\n",
    "    @Parameterized.Parameter(4)\n",
    "    public double results;\n",
    "\n",
    "    @Parameterized.Parameters(name = \"{index}: lower: {0} upper:{1} error:{2} iterations:{3} results:{5}\")\n",
    "    public static Collection<Object[]> data() {\n",
    "        Object[][] data = new Object[][]{\n",
    "            // Your Test cases start here\n",
    "            // Please follow the pattern: lower, upper, error, iterations, expected results\n",
    "            {-1.0, 7.0, 1, 10, 2.0},\n",
    "            {-1.0, 7.0, 1, 10, 2.0}\n",
    "            // Your Test cases end here\n",
    "            };\n",
    "        return Arrays.asList(data);\n",
    "    }\n",
    "\n",
    "    @Test\n",
    "    public void testBisection() {\n",
    "        assertEquals(results, Bisection.bisection(lower, upper, error, max));\n",
    "    }\n",
    "}"
   ]
  },
  {
   "cell_type": "code",
   "execution_count": null,
   "metadata": {
    "vscode": {
     "languageId": "java"
    }
   },
   "outputs": [
    {
     "name": "stdout",
     "output_type": "stream",
     "text": [
      "iteration 1 = (-1.000000, 3.000000, 3.000000, 100.000000, -3.000000)\n",
      "\n",
      "iteration 2 = (1.000000, 3.000000, 1.000000, 200.000000, 3.000000)\n",
      "\n",
      "iteration 3 = (1.000000, 3.000000, 2.000000, 0.000000, -0.000000)\n",
      "\n",
      "iteration 1 = (-1.000000, 3.000000, 3.000000, 100.000000, -3.000000)\n",
      "\n",
      "iteration 2 = (1.000000, 3.000000, 1.000000, 200.000000, 3.000000)\n",
      "\n",
      "iteration 3 = (1.000000, 3.000000, 2.000000, 0.000000, -0.000000)\n",
      "\n",
      "Total run count: 2, Failed run count: 0\n"
     ]
    }
   ],
   "source": [
    "Result result = JUnitCore.runClasses(TestBisection.class);\n",
    "for (Failure failure : result.getFailures()) {\n",
    "     System.out.println(failure.toString());\n",
    "}\n",
    "System.out.println(String.format(\"Total run count: %s, Failed run count: %s\", result.getRunCount(), result.getFailureCount()));"
   ]
  }
 ],
 "metadata": {
  "language_info": {
   "name": "python"
  }
 },
 "nbformat": 4,
 "nbformat_minor": 2
}
