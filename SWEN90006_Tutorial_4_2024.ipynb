{
  "cells": [
    {
      "cell_type": "markdown",
      "metadata": {
        "colab_type": "text",
        "id": "view-in-github"
      },
      "source": [
        "<a href=\"https://colab.research.google.com/github/SWEN90006/tutorials/blob/main/SWEN90006_Tutorial_4_2024.ipynb\" target=\"_parent\"><img src=\"https://colab.research.google.com/assets/colab-badge.svg\" alt=\"Open In Colab\"/></a>"
      ]
    },
    {
      "cell_type": "markdown",
      "id": "64f8c7b9",
      "metadata": {
        "id": "64f8c7b9"
      },
      "source": [
        "# SWEN90006 Tutorial 4"
      ]
    },
    {
      "cell_type": "markdown",
      "id": "5d778b91",
      "metadata": {
        "id": "5d778b91"
      },
      "source": [
        "## Introduction\n",
        "The purpose of this tutorial is for you to gain a deeper understanding\n",
        "of control- and data-flow techniques, and to compare these to input\n",
        "partitioning techniques."
      ]
    },
    {
      "cell_type": "markdown",
      "id": "f486e92f",
      "metadata": {
        "id": "f486e92f"
      },
      "source": [
        "### Prepare the Java Kernel\n",
        "Since Java is not natively supported by Colab, we need to run the following code to enable Java kernel on Colab.\n",
        "\n",
        "1. Run the cell bellow (click it and press Shift+Enter),\n",
        "2. Change the kernel to java_use (Runtime -> Change Runtime Type -> select **\"java_use\"** -> Save)\n",
        "3. Try and run the following cells. The java kernel is ready if the you can load the JUnit library in the following cell. \n",
        "\n",
        "### Trouble shooting\n",
        "  * There are two Java runtimes having similar names that you can select in step 2. If you accidentally select **java** instead of **java_use**, Colab will enter an indefinite loop, show **connecting**, and the bottom bar has a message saying \"Connecting to **java_tcp** Google Compute Engine backend\", you should delete the runtime (Runtime -> Disconnect and Delete Runtime), and run step 1 again. \n",
        "    * The working runtime has a log message saying it is **connecting to java Google Compute Enginge Backend**"
      ]
    },
    {
      "cell_type": "code",
      "execution_count": null,
      "id": "5b292a83",
      "metadata": {
        "id": "5b292a83"
      },
      "outputs": [],
      "source": [
        "%%sh\n",
        "# Install java kernel\n",
        "wget -q https://github.com/SpencerPark/IJava/releases/download/v1.3.0/ijava-1.3.0.zip \n",
        "unzip -q ijava-1.3.0.zip \n",
        "python install.py\n",
        "\n",
        "# Install proxy for the java kernel\n",
        "wget -qO- https://gist.github.com/wenta0g/67289a9b2e54b8128109abb3aff2194b/archive/0707f5d61d156ce2830505679994b0f1a606589b.tar.gz | tar xvz --strip-components=1\n",
        "python install_ipc_proxy_kernel.py --kernel=java --implementation=ipc_proxy_kernel.py"
      ]
    },
    {
      "cell_type": "code",
      "execution_count": 1,
      "id": "8365ad18",
      "metadata": {
        "id": "8365ad18"
      },
      "outputs": [],
      "source": [
        "%%loadFromPOM\n",
        "\n",
        "<dependency>\n",
        "  <groupId>junit</groupId>\n",
        "  <artifactId>junit</artifactId>\n",
        "  <version>4.13.2</version>\n",
        "</dependency>"
      ]
    },
    {
      "cell_type": "markdown",
      "id": "89001280",
      "metadata": {},
      "source": [
        "# Part 1 Control Flow Criteria\n",
        "\n",
        "White-box testing provides more information to the tester than black box testing. One special case is when the requirements is not correctly stated to perform Equivalence Partitioning, or a simple input leads to very complex system behaviour where a short requirements is not sufficient to describe all possible expected outcomes. \n",
        "\n",
        "## Working With the Program - Control flow analysis\n",
        "\n",
        "In the first part of the tutorial, we provided a code snippet simulating image transformations done in the LibPNG library. \n",
        "\n",
        "LibPNG supports a list of image transformations when reading and writing a given image, for example, converting rgb images to gray or creating or deleting color channels. You do not need to know what these transformation means. Suppose in the LibPNG library, a 8-bit integer called `transformations` is used to represent the transformation to be performed. Four transformation will be performed. The condition to perform each condition is to check whether some part of the transformation flag is following certain patterns. For example, to perform transformation \"second\", the bit at index 1 and 2 must be set to 1. \n",
        "\n",
        "For simplisity, each transformation is controled by a unique set of bits."
      ]
    },
    {
      "cell_type": "code",
      "execution_count": 112,
      "id": "fc00a63f",
      "metadata": {},
      "outputs": [],
      "source": [
        "import java.util.ArrayList;\n",
        "import java.util.List;\n",
        "\n",
        "public class MyClass {\n",
        "    // Fields\n",
        "    private int myField;\n",
        "    private List<String> transformations = new ArrayList<>();\n",
        "    \n",
        "    // Constructor\n",
        "    public MyClass(String binary) {\n",
        "        this.myField = parseBinaryString(binary);\n",
        "    }\n",
        "\n",
        "    // reject if the binary string is not 8 bits, or it contains non-binary characters\n",
        "    // parse the binary string to an integer\n",
        "    public int parseBinaryString(String binary){\n",
        "\n",
        "        if (binary.length() != 8 || !binary.matches(\"[01]+\")) {\n",
        "            //System.out.println(\"Invalid binary string\");\n",
        "            throw new IllegalArgumentException(\"must be a string of 8 chars, each char is either 0 or 1\");\n",
        "        }\n",
        "\n",
        "        int decimal = Integer.parseInt(binary, 2);\n",
        "        return decimal;\n",
        "\n",
        "    }\n",
        "    // Check if the n-th bit is 1\n",
        "    public boolean isSet(int n) {\n",
        "        return (myField & (1 << n)) != 0;\n",
        "    }\n",
        "\n",
        "    // Print the list of transformation to be performed\n",
        "    public void PNG_initialize_transformation() {\n",
        "        // Add more transformations as needed\n",
        "\n",
        "        // The first transformation is set when the 0th bit is set\n",
        "        if (isSet(0)) {\n",
        "            transformations.add(\"First\");\n",
        "        }\n",
        "        // The second transformation is set when both the 1st and 2nd bits are set \n",
        "        if (isSet(1) && isSet(2)) {\n",
        "            transformations.add(\"Second\");\n",
        "        }\n",
        "\n",
        "        // The third transformation is set when the 3rd bit is set and either the 4th or 5th bit is set\n",
        "        if (isSet(3) && (isSet(4) || isSet(5))) {\n",
        "            transformations.add(\"Third\");\n",
        "        }\n",
        "\n",
        "        // The fourth transformation is set when the 6th bit is not set or the 7th bit is set\n",
        "        if (!isSet(6) || isSet(7)) {\n",
        "            transformations.add(\"Fourth\");\n",
        "        }\n",
        "    }\n",
        "    // Print out the list of transformations to be performed\n",
        "    public void printTransformations() {\n",
        "        System.out.println(\"Transformations to perform: \" + transformations);\n",
        "    }\n",
        "}\n"
      ]
    },
    {
      "cell_type": "code",
      "execution_count": 114,
      "id": "b1f8551a",
      "metadata": {},
      "outputs": [
        {
          "name": "stdout",
          "output_type": "stream",
          "text": [
            "Transformations to perform: [Second, Fourth]\n"
          ]
        }
      ],
      "source": [
        "// Please provide a string having at most 8 characters, and only 0s and 1s\n",
        "// Other input will be rejected\n",
        "String binary = \"00010110\"; \n",
        "\n",
        "MyClass myclass = new MyClass(binary);\n",
        "\n",
        "// check which transformations to perform due to some combinations of flags\n",
        "myclass.PNG_initialize_transformation();\n",
        "\n",
        "// print out the transformations to be performed\n",
        "myclass.printTransformations();\n"
      ]
    },
    {
      "cell_type": "markdown",
      "id": "4b814bea",
      "metadata": {},
      "source": [
        "## Your Task\n",
        "\n",
        "We will work on the different coverage criteria, looking at the `PNG_initialize_transformation` function. The control flow graph of the `PNG_initialize_transformation` function is attached for your reference. \n",
        "\n",
        "<img src=\"figures/CFG1_tut4.png\" width=\"30%\">\n",
        "\n",
        "### Task 1: \n",
        "\n",
        " For the given set of test cases, calculate the `branch coverage` score, using the given template (You only need to fill in blanks in the table and the coverage score). If your set of test cases does not achieve 100% `branch coverage`, add some test cases that achieves `branch coverage`. \n",
        "\n",
        "**Hint:** is making a branch `true` equivalent to performing the corresponding transformation?  \n",
        "\n",
        "\n",
        "Set of test cases:\n",
        "- `binary = \"00000111\"`\n",
        "- `binary = \"10101010\"`\n",
        "- `binary = \"11110000\"`\n",
        "\n",
        "| Branch          | Branch 1 | Branch 1  | Branch 2 | Branch 2 | Branch 3 | Branch 3 | Branch 4 | Branch 4 |\n",
        "|-----------------|----------|-----------|----------|----------|----------|----------|----------|----------|\n",
        "| Test objectives | True     | False     | True     | False    | True     | False    | True     | False    |\n",
        "| 01000111        |        |           |          |          |          |          |          |          |\n",
        "| 10101010        |          |           |          |         |         |          |         |          |\n",
        "| 11110000        |          |           |          |         |          |         |         |          |\n",
        " \n",
        "$coverage\\_score = \\frac{objectives\\_achieved}{total\\_objectives} $\n",
        "\n",
        "\n",
        "### Task 2:\n",
        "\n",
        "Design a set of test cases that achieves `condition coverage`. \n",
        "\n",
        "Note: we do not consider code optimizations during compilations. The implication is that for a branch like `if (a and b)`, an optimized code may not check `b` given `a` is false. But we will **always check whether `a` and `b` is True or False**. \n",
        "\n",
        "\n",
        "### Task 3:\n",
        "\n",
        "Design a set of test cases that achieves `decision/condition coverage`.\n"
      ]
    },
    {
      "cell_type": "markdown",
      "id": "f472fc3d",
      "metadata": {},
      "source": [
        "## Part 2 Dataflow Analysis"
      ]
    },
    {
      "cell_type": "markdown",
      "id": "78f1bb8a",
      "metadata": {
        "id": "78f1bb8a"
      },
      "source": [
        "## Working With the Program\n",
        "\n",
        "In this tutorial we will focus on the procedure `bubble`, found in\n",
        "Figure 1. The program below serves to show you how we\n",
        "intend to use `bubble`. Of course, `bubble` implements a bubble sort.\n",
        "\n",
        "Make special note of the third parameter to `bubble`, called `order`. This parameter allows us to create a flexible sorting algorithm, which can be used to sort in either ascending or descending order. Both functions `up` and `down` take two integers and return an integer (which is intended to be a boolean value). For this tutorial consider\n",
        "just\n",
        "\n",
        "```java\n",
        "public static boolean up(int A, int B) {\n",
        "    return A < B;\n",
        "}\n",
        "```\n",
        "\n",
        "and\n",
        "\n",
        "```java\n",
        "public static boolean down(int A, int B) {\n",
        "    return B < A;\n",
        "}\n",
        "```"
      ]
    },
    {
      "cell_type": "markdown",
      "id": "f0bf0da4",
      "metadata": {
        "id": "f0bf0da4"
      },
      "source": [
        "The following is a basic Java implementation of `Bubble Sort`."
      ]
    },
    {
      "cell_type": "code",
      "execution_count": 25,
      "id": "e1a39dc5",
      "metadata": {
        "id": "e1a39dc5"
      },
      "outputs": [],
      "source": [
        "public class Bubble {\n",
        "\n",
        "    static final int SIZE = 10;\n",
        "    static final int data[] = {11, 4, 8, 22, 15, 7, 8, 19, 20, 1};\n",
        "    static int counter;\n",
        "    static int order;\n",
        "    \n",
        "    public static boolean up(int A, int B) {\n",
        "        return A < B;\n",
        "    }\n",
        "    \n",
        "    public static boolean down(int A, int B) {\n",
        "        return B < A;\n",
        "    }\n",
        "    \n",
        "    public static void printArray() {\n",
        "        for (counter = 0; counter < SIZE; counter++)\n",
        "            System.out.print(data[counter] + \" \");\n",
        "        System.out.println();\n",
        "    }\n",
        "\n",
        "    public static int[] bubble(int data[], int size, int order) {\n",
        "        int pass, count;\n",
        "        for (pass = 0; pass < SIZE - 1; pass++) {\n",
        "            for (count = 0; count < SIZE - 1; count++) {\n",
        "                if (order == 0) {\n",
        "                    if (up(data[count], data[count + 1])) {\n",
        "                        swap(data, count);\n",
        "                    }\n",
        "                } else {\n",
        "                    if (down(data[count], data[count + 1])) {\n",
        "                        swap(data, count);\n",
        "                    }\n",
        "                }\n",
        "            }\n",
        "        }\n",
        "        return data;\n",
        "    }\n",
        "    \n",
        "    public static void swap(int data[], int count) {\n",
        "        int temp = data[count];\n",
        "        data[count] = data[count+1];\n",
        "        data[count+1] = temp;\n",
        "    }\n",
        "}"
      ]
    },
    {
      "cell_type": "code",
      "execution_count": 27,
      "id": "199842ec",
      "metadata": {
        "id": "199842ec",
        "outputId": "ce74d455-7585-4ee9-eadd-ab4e213f9304",
        "scrolled": true
      },
      "outputs": [
        {
          "name": "stdout",
          "output_type": "stream",
          "text": [
            "1 4 7 8 8 11 15 19 20 22 \n"
          ]
        }
      ],
      "source": [
        "// bubble (int[] data, int size, int order), 0 for descending, and 1 for ascending\n",
        "Bubble.bubble(Bubble.data, 10, 1);\n",
        "Bubble.printArray();"
      ]
    },
    {
      "cell_type": "code",
      "execution_count": 9,
      "id": "e345c214",
      "metadata": {
        "id": "e345c214"
      },
      "outputs": [],
      "source": [
        "import org.junit.Assert;\n",
        "import java.util.Arrays;\n",
        "import java.util.Collection;\n",
        "\n",
        "import org.junit.Test;\n",
        "import org.junit.runner.JUnitCore;\n",
        "import org.junit.runner.Result;\n",
        "import org.junit.runner.RunWith;\n",
        "import org.junit.runner.notification.Failure;\n",
        "import org.junit.runners.Parameterized;\n",
        "\n",
        "import junit.framework.TestCase;\n",
        "\n",
        "@RunWith(Parameterized.class)\n",
        "public class TestBubble extends TestCase {\n",
        "\n",
        "    @Parameterized.Parameter(0)\n",
        "    public int[] data;\n",
        "    @Parameterized.Parameter(1)\n",
        "    public int size;\n",
        "    @Parameterized.Parameter(2)\n",
        "    public int order;\n",
        "    @Parameterized.Parameter(3)\n",
        "    public int[] result;\n",
        "    \n",
        "    @Parameterized.Parameters(name = \"{index}: data: {0} size:{1} order:{2} results:{3}\")\n",
        "    public static Collection<Object[]> data() {\n",
        "        Object[][] data = new Object[][]{\n",
        "            // Your Test cases start here\n",
        "            {new int[]{1, 3, 2, 4, 5, 6, 7, 8, 10, 9}, 10, 1, new int[]{1, 2, 3, 4, 5, 6, 7, 8, 9, 10}},\n",
        "            // Your Test cases end here\n",
        "            };\n",
        "        return Arrays.asList(data);\n",
        "    }\n",
        "    \n",
        "    @Test\n",
        "    public void testBubble() {\n",
        "        Assert.assertArrayEquals(result, Bubble.bubble(data, size, order));\n",
        "    }\n",
        "}"
      ]
    },
    {
      "cell_type": "code",
      "execution_count": 10,
      "id": "4320cfa9",
      "metadata": {
        "id": "4320cfa9",
        "outputId": "8bcec4e1-13d5-4689-c060-7bbcf666dc13"
      },
      "outputs": [
        {
          "name": "stdout",
          "output_type": "stream",
          "text": [
            "testBubble[0: data: [I@1c2d6001 size:10 order:1 results:[I@6dd60873](REPL.$JShell$28D$TestBubble): arrays first differed at element [8]; expected:<9> but was:<22>\n",
            "Total run count: 1, Failed run count: 1\n"
          ]
        }
      ],
      "source": [
        "Result result = JUnitCore.runClasses(TestBubble.class);\n",
        "for (Failure failure : result.getFailures()) {\n",
        "     System.out.println(failure.toString());\n",
        "}\n",
        "System.out.println(String.format(\"Total run count: %s, Failed run count: %s\", result.getRunCount(), result.getFailureCount()));"
      ]
    },
    {
      "cell_type": "markdown",
      "id": "d568505e",
      "metadata": {
        "id": "d568505e"
      },
      "source": [
        "## Your Tasks\n",
        "\n",
        "### Task 1\n",
        "First, make sure you understand the program (expected to be done before the tutorial).\n",
        "\n",
        "### Task 2\n",
        "Perform a static data-flow analysis on `bubble`. Draw a table such as in the notes to complete this.\n",
        "\n",
        "### Task 3\n",
        "Imagine you are also performing an equivalence partitioning test. What extra information does your data-flow analysis give you that your\n",
        "black-box test cases do not?"
      ]
    }
  ],
  "metadata": {
    "colab": {
      "include_colab_link": true,
      "name": "SWEN90006_Tutorial_04.ipynb",
      "provenance": []
    },
    "kernelspec": {
      "display_name": "Java",
      "language": "java",
      "name": "java"
    },
    "language_info": {
      "codemirror_mode": "java",
      "file_extension": ".jshell",
      "mimetype": "text/x-java-source",
      "name": "java",
      "pygments_lexer": "java",
      "version": "11.0.15.1+2-LTS-10"
    }
  },
  "nbformat": 4,
  "nbformat_minor": 5
}
