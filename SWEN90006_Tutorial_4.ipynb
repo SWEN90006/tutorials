{
  "cells": [
    {
      "cell_type": "markdown",
      "metadata": {
        "colab_type": "text",
        "id": "view-in-github"
      },
      "source": [
        "<a href=\"https://colab.research.google.com/github/SWEN90006/tutorials/blob/main/SWEN90006_Tutorial_4.ipynb\" target=\"_parent\"><img src=\"https://colab.research.google.com/assets/colab-badge.svg\" alt=\"Open In Colab\"/></a>"
      ]
    },
    {
      "cell_type": "markdown",
      "id": "64f8c7b9",
      "metadata": {
        "id": "64f8c7b9"
      },
      "source": [
        "# SWEN90006 Tutorial 4"
      ]
    },
    {
      "cell_type": "markdown",
      "id": "5d778b91",
      "metadata": {
        "id": "5d778b91"
      },
      "source": [
        "## Introduction\n",
        "The purpose of this tutorial is for you to gain a deeper understanding\n",
        "of control- and data-flow techniques, and to compare these to input\n",
        "partitioning techniques."
      ]
    },
    {
      "cell_type": "markdown",
      "id": "78f1bb8a",
      "metadata": {
        "id": "78f1bb8a"
      },
      "source": [
        "## Working With the Program\n",
        "In this tutorial we will focus on the procedure `bubble`, found in\n",
        "Figure 1. The program below serves to show you how we\n",
        "intend to use `bubble`. Of course, `bubble` implements a bubble sort.\n",
        "\n",
        "Make special note of the third parameter to `bubble`, called `order`. This parameter allows us to create a flexible sorting algorithm, which can be used to sort in either ascending or descending order. Both functions `up` and `down` take two integers and return an integer (which is intended to be a boolean value). For this tutorial consider\n",
        "just\n",
        "\n",
        "```java\n",
        "public static boolean up(int A, int B) {\n",
        "    return A < B;\n",
        "}\n",
        "```\n",
        "\n",
        "and\n",
        "\n",
        "```java\n",
        "public static boolean down(int A, int B) {\n",
        "    return B < A;\n",
        "}\n",
        "```"
      ]
    },
    {
      "cell_type": "markdown",
      "id": "f486e92f",
      "metadata": {
        "id": "f486e92f"
      },
      "source": [
        "### Prepare the Java Kernel\n",
        "Since Java is not natively supported by Colab, we need to run the following code to enable Java kernel on Colab.\n",
        "\n",
        "1. Run the cell bellow (click it and press Shift+Enter),\n",
        "2. Change the kernel to java_use (Runtime -> Change Runtime Type -> select **\"java_use\"** -> Save)\n",
        "3. Try and run the following cells. The java kernel is ready if the you can load the JUnit library in the following cell. \n",
        "\n",
        "### Trouble shooting\n",
        "  * There are two Java runtimes having similar names that you can select in step 2. If you accidentally select **java** instead of **java_use**, Colab will enter an indefinite loop, show **connecting**, and the bottom bar has a message saying \"Connecting to **java_tcp** Google Compute Engine backend\", you should delete the runtime (Runtime -> Disconnect and Delete Runtime), and run step 1 again. \n",
        "    * The working runtime has a log message saying it is **connecting to java Google Compute Enginge Backend**"
      ]
    },
    {
      "cell_type": "code",
      "execution_count": null,
      "id": "5b292a83",
      "metadata": {
        "id": "5b292a83",
        "vscode": {
          "languageId": "java"
        }
      },
      "outputs": [],
      "source": [
        "%%sh\n",
        "# Install java kernel\n",
        "wget -q https://github.com/SpencerPark/IJava/releases/download/v1.3.0/ijava-1.3.0.zip \n",
        "unzip -q ijava-1.3.0.zip \n",
        "python install.py\n",
        "\n",
        "# Install proxy for the java kernel\n",
        "wget -qO- https://gist.github.com/wenta0g/67289a9b2e54b8128109abb3aff2194b/archive/0707f5d61d156ce2830505679994b0f1a606589b.tar.gz | tar xvz --strip-components=1\n",
        "python install_ipc_proxy_kernel.py --kernel=java --implementation=ipc_proxy_kernel.py"
      ]
    },
    {
      "cell_type": "code",
      "execution_count": null,
      "id": "8365ad18",
      "metadata": {
        "id": "8365ad18",
        "vscode": {
          "languageId": "java"
        }
      },
      "outputs": [],
      "source": [
        "%%loadFromPOM\n",
        "\n",
        "<dependency>\n",
        "  <groupId>junit</groupId>\n",
        "  <artifactId>junit</artifactId>\n",
        "  <version>4.13.2</version>\n",
        "</dependency>"
      ]
    },
    {
      "cell_type": "markdown",
      "id": "f0bf0da4",
      "metadata": {
        "id": "f0bf0da4"
      },
      "source": [
        "The following is a basic Java implementation of `Bubble Sort`."
      ]
    },
    {
      "cell_type": "code",
      "execution_count": null,
      "id": "e1a39dc5",
      "metadata": {
        "id": "e1a39dc5",
        "vscode": {
          "languageId": "java"
        }
      },
      "outputs": [],
      "source": [
        "public class Bubble {\n",
        "\n",
        "    static final int SIZE = 10;\n",
        "    static final int data[] = {11, 4, 8, 22, 15, 7, 8, 19, 20, 1};\n",
        "    static int counter;\n",
        "    static int order;\n",
        "    \n",
        "    public static boolean up(int A, int B) {\n",
        "        return A < B;\n",
        "    }\n",
        "    \n",
        "    public static boolean down(int A, int B) {\n",
        "        return B < A;\n",
        "    }\n",
        "    \n",
        "    public static void printArray() {\n",
        "        for (counter = 0; counter < SIZE; counter++)\n",
        "            System.out.print(data[counter] + \" \");\n",
        "        System.out.println();\n",
        "    }\n",
        "\n",
        "    public static int[] bubble(int data[], int size, int order) {\n",
        "        int pass, count;\n",
        "        for (pass = 0; pass < SIZE - 1; pass++) {\n",
        "            for (count = 0; count < SIZE - 1; count++) {\n",
        "                if (order == 0) {\n",
        "                    if (up(data[count], data[count + 1])) {\n",
        "                        swap(data, count);\n",
        "                    }\n",
        "                } else {\n",
        "                    if (down(data[count], data[count + 1])) {\n",
        "                        swap(data, count);\n",
        "                    }\n",
        "                }\n",
        "            }\n",
        "        }\n",
        "        return data;\n",
        "    }\n",
        "    \n",
        "    public static void swap(int data[], int count) {\n",
        "        int temp = data[count];\n",
        "        data[count] = data[count+1];\n",
        "        data[count+1] = temp;\n",
        "    }\n",
        "}"
      ]
    },
    {
      "cell_type": "code",
      "execution_count": null,
      "id": "199842ec",
      "metadata": {
        "id": "199842ec",
        "outputId": "ce74d455-7585-4ee9-eadd-ab4e213f9304",
        "scrolled": true,
        "vscode": {
          "languageId": "java"
        }
      },
      "outputs": [
        {
          "name": "stdout",
          "output_type": "stream",
          "text": [
            "1 4 7 8 8 11 15 19 20 22 \n"
          ]
        }
      ],
      "source": [
        "// bubble (int[] data, int size, int order), 0 for descending, and 1 for ascending\n",
        "Bubble.bubble(Bubble.data, 10, 1);\n",
        "Bubble.printArray();"
      ]
    },
    {
      "cell_type": "code",
      "execution_count": null,
      "id": "e345c214",
      "metadata": {
        "id": "e345c214",
        "vscode": {
          "languageId": "java"
        }
      },
      "outputs": [],
      "source": [
        "import org.junit.Assert;\n",
        "import java.util.Arrays;\n",
        "import java.util.Collection;\n",
        "\n",
        "import org.junit.Test;\n",
        "import org.junit.runner.JUnitCore;\n",
        "import org.junit.runner.Result;\n",
        "import org.junit.runner.RunWith;\n",
        "import org.junit.runner.notification.Failure;\n",
        "import org.junit.runners.Parameterized;\n",
        "\n",
        "import junit.framework.TestCase;\n",
        "\n",
        "@RunWith(Parameterized.class)\n",
        "public class TestBubble extends TestCase {\n",
        "\n",
        "    @Parameterized.Parameter(0)\n",
        "    public int[] data;\n",
        "    @Parameterized.Parameter(1)\n",
        "    public int size;\n",
        "    @Parameterized.Parameter(2)\n",
        "    public int order;\n",
        "    @Parameterized.Parameter(3)\n",
        "    public int[] result;\n",
        "    \n",
        "    @Parameterized.Parameters(name = \"{index}: data: {0} size:{1} order:{2} results:{3}\")\n",
        "    public static Collection<Object[]> data() {\n",
        "        Object[][] data = new Object[][]{\n",
        "            // Your Test cases start here\n",
        "            {new int[]{1, 3, 2, 4, 5, 6, 7, 8, 10, 9}, 10, 1, new int[]{1, 2, 3, 4, 5, 6, 7, 8, 9, 10}},\n",
        "            // Your Test cases end here\n",
        "            };\n",
        "        return Arrays.asList(data);\n",
        "    }\n",
        "    \n",
        "    @Test\n",
        "    public void testBubble() {\n",
        "        Assert.assertArrayEquals(result, Bubble.bubble(data, size, order));\n",
        "    }\n",
        "}"
      ]
    },
    {
      "cell_type": "code",
      "execution_count": null,
      "id": "4320cfa9",
      "metadata": {
        "id": "4320cfa9",
        "outputId": "8bcec4e1-13d5-4689-c060-7bbcf666dc13",
        "vscode": {
          "languageId": "java"
        }
      },
      "outputs": [
        {
          "name": "stdout",
          "output_type": "stream",
          "text": [
            "Total run count: 1, Failed run count: 0\n"
          ]
        }
      ],
      "source": [
        "Result result = JUnitCore.runClasses(TestBubble.class);\n",
        "for (Failure failure : result.getFailures()) {\n",
        "     System.out.println(failure.toString());\n",
        "}\n",
        "System.out.println(String.format(\"Total run count: %s, Failed run count: %s\", result.getRunCount(), result.getFailureCount()));"
      ]
    },
    {
      "cell_type": "markdown",
      "id": "d568505e",
      "metadata": {
        "id": "d568505e"
      },
      "source": [
        "## Your Tasks\n",
        "\n",
        "### Task 1\n",
        "First, make sure you understand the program (expected to be done before the tutorial).\n",
        "\n",
        "### Task 2\n",
        "Determine the input domains and output domains for the functions\n",
        "`bubble`. \n",
        "\n",
        "Next, what are the input conditions?\n",
        "\n",
        "### Task 3\n",
        "Perform a static data-flow analysis on `bubble`. Draw a table such as in the notes to complete this.\n",
        "\n",
        "### Task 4\n",
        "Roughly sketch a set of black box test cases using equivalence partitioning.\n",
        "\n",
        "### Task 5\n",
        "What extra information does your data-flow analysis give you that your\n",
        "black-box test cases do not?"
      ]
    }
  ],
  "metadata": {
    "colab": {
      "include_colab_link": true,
      "name": "SWEN90006_Tutorial_04.ipynb",
      "provenance": []
    },
    "kernelspec": {
      "display_name": "Java",
      "language": "java",
      "name": "java"
    },
    "language_info": {
      "codemirror_mode": "java",
      "file_extension": ".jshell",
      "mimetype": "text/x-java-source",
      "name": "Java",
      "pygments_lexer": "java",
      "version": "10.0.2+13"
    }
  },
  "nbformat": 4,
  "nbformat_minor": 5
}
